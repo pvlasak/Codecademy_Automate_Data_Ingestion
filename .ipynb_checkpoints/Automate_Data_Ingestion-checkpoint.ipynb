{
 "cells": [
  {
   "cell_type": "code",
   "execution_count": 97,
   "id": "5af1aca0",
   "metadata": {},
   "outputs": [],
   "source": [
    "import sqlite3\n",
    "import pandas as pd\n",
    "import numpy as np\n",
    "import json\n",
    "import csv"
   ]
  },
  {
   "cell_type": "code",
   "execution_count": 31,
   "id": "4ce6f739",
   "metadata": {},
   "outputs": [],
   "source": [
    "connection = sqlite3.connect(\"./subscriber-pipeline-starter-kit/dev/cademycode.db\")\n",
    "cursor = connection.cursor()"
   ]
  },
  {
   "cell_type": "markdown",
   "id": "f717808f",
   "metadata": {},
   "source": [
    "# Names of table in the database cademycode.db"
   ]
  },
  {
   "cell_type": "code",
   "execution_count": 32,
   "id": "e457e32d",
   "metadata": {},
   "outputs": [
    {
     "name": "stdout",
     "output_type": "stream",
     "text": [
      "[('cademycode_students',), ('cademycode_courses',), ('cademycode_student_jobs',)]\n"
     ]
    }
   ],
   "source": [
    "tables = cursor.execute(\"SELECT name FROM sqlite_master WHERE type='table';\").fetchall()\n",
    "print(tables)"
   ]
  },
  {
   "cell_type": "code",
   "execution_count": 33,
   "id": "3d350905",
   "metadata": {},
   "outputs": [
    {
     "name": "stdout",
     "output_type": "stream",
     "text": [
      "['uuid', 'name', 'dob', 'sex', 'contact_info', 'job_id', 'num_course_taken', 'current_career_path_id', 'time_spent_hrs']\n"
     ]
    }
   ],
   "source": [
    "tables_columns = cursor.execute(\"\"\"PRAGMA table_info('cademycode_students');\"\"\").fetchall()\n",
    "print([column[1] for column in tables_columns])"
   ]
  },
  {
   "cell_type": "markdown",
   "id": "0a4fa08c",
   "metadata": {},
   "source": [
    "# Import tables as cursor object "
   ]
  },
  {
   "cell_type": "markdown",
   "id": "6318f3c6",
   "metadata": {},
   "source": [
    "## Courses table"
   ]
  },
  {
   "cell_type": "code",
   "execution_count": 34,
   "id": "10b1f261",
   "metadata": {},
   "outputs": [],
   "source": [
    "courses = cursor.execute(\"\"\"SELECT * FROM cademycode_courses\"\"\").fetchall()"
   ]
  },
  {
   "cell_type": "code",
   "execution_count": 35,
   "id": "d094d474",
   "metadata": {},
   "outputs": [
    {
     "name": "stdout",
     "output_type": "stream",
     "text": [
      "[(1, 'data scientist', 20), (2, 'data engineer', 20), (3, 'data analyst', 12), (4, 'software engineering', 25), (5, 'backend engineer', 18), (6, 'frontend engineer', 20), (7, 'iOS developer', 27), (8, 'android developer', 27), (9, 'machine learning engineer', 35), (10, 'ux/ui designer', 15)]\n"
     ]
    }
   ],
   "source": [
    "print(courses)"
   ]
  },
  {
   "cell_type": "code",
   "execution_count": 36,
   "id": "882fde56",
   "metadata": {},
   "outputs": [],
   "source": [
    "student_jobs = cursor.execute(\"\"\"SELECT * FROM cademycode_student_jobs\"\"\").fetchmany(10)"
   ]
  },
  {
   "cell_type": "markdown",
   "id": "f1fa742d",
   "metadata": {},
   "source": [
    "## Student jobs table"
   ]
  },
  {
   "cell_type": "code",
   "execution_count": 37,
   "id": "8b2a4e85",
   "metadata": {},
   "outputs": [
    {
     "name": "stdout",
     "output_type": "stream",
     "text": [
      "[(1, 'analytics', 86000), (2, 'engineer', 101000), (3, 'software developer', 110000), (4, 'creative', 66000), (5, 'financial services', 135000), (6, 'education', 61000), (7, 'HR', 80000), (8, 'student', 10000), (9, 'healthcare', 120000), (0, 'other', 80000)]\n"
     ]
    }
   ],
   "source": [
    "print(student_jobs)"
   ]
  },
  {
   "cell_type": "markdown",
   "id": "70af3b62",
   "metadata": {},
   "source": [
    "## Students table"
   ]
  },
  {
   "cell_type": "code",
   "execution_count": 38,
   "id": "6b955bec",
   "metadata": {},
   "outputs": [],
   "source": [
    "students = cursor.execute(\"\"\"SELECT * FROM cademycode_students\"\"\").fetchmany(10)"
   ]
  },
  {
   "cell_type": "code",
   "execution_count": 39,
   "id": "2b06192e",
   "metadata": {},
   "outputs": [
    {
     "name": "stdout",
     "output_type": "stream",
     "text": [
      "[(1, 'Annabelle Avery', '1943-07-03', 'F', '{\"mailing_address\": \"303 N Timber Key, Irondale, Wisconsin, 84736\", \"email\": \"annabelle_avery9376@woohoo.com\"}', '7.0', '6.0', '1.0', '4.99'), (2, 'Micah Rubio', '1991-02-07', 'M', '{\"mailing_address\": \"767 Crescent Fair, Shoals, Indiana, 37439\", \"email\": \"rubio6772@hmail.com\"}', '7.0', '5.0', '8.0', '4.4'), (3, 'Hosea Dale', '1989-12-07', 'M', '{\"mailing_address\": \"P.O. Box 41269, St. Bonaventure, Virginia, 83637\", \"email\": \"hosea_dale8084@coldmail.com\"}', '7.0', '8.0', '8.0', '6.74'), (4, 'Mariann Kirk', '1988-07-31', 'F', '{\"mailing_address\": \"517 SE Wintergreen Isle, Lane, Arkansas, 82242\", \"email\": \"kirk4005@hmail.com\"}', '6.0', '7.0', '9.0', '12.31'), (5, 'Lucio Alexander', '1963-08-31', 'M', '{\"mailing_address\": \"18 Cinder Cliff, Doyles borough, Rhode Island, 73737\", \"email\": \"alexander9810@hmail.com\"}', '7.0', '14.0', '3.0', '5.64'), (6, 'Shavonda Mcmahon', '1989-10-15', 'F', '{\"mailing_address\": \"P.O. Box 81591, Tarpon Springs, Montana, 37057\", \"email\": \"shavonda5863@coldmail.com\"}', '6.0', '10.0', '3.0', '10.12'), (7, 'Terrell Bleijenberg', '1959-05-05', 'M', '{\"mailing_address\": \"P.O. Box 53471, Oskaloosa, Virginia, 85274\", \"email\": \"bleijenberg188@hmail.com\"}', '2.0', '9.0', '8.0', '24.17'), (8, 'Stanford Allan', '1997-11-22', 'M', '{\"mailing_address\": \"255 Spring Avenue, Point Baker, Texas, 15796\", \"email\": \"stanford_allan8055@coldmail.com\"}', '3.0', '3.0', '1.0', '19.54'), (9, 'Tricia Delacruz', '1961-10-20', 'F', '{\"mailing_address\": \"997 Dewy Apple, Lake Lindsey, Washington, 78266\", \"email\": \"tricia_delacruz6622@woohoo.com\"}', '1.0', '6.0', '9.0', '1.75'), (10, 'Regenia van der Helm', '1999-02-23', 'N', '{\"mailing_address\": \"220 Middle Ridge, Falcon Heights, New Mexico, 46971\", \"email\": \"regenia6908@inlook.com\"}', '5.0', '7.0', '6.0', '13.55')]\n"
     ]
    }
   ],
   "source": [
    "print(students)"
   ]
  },
  {
   "cell_type": "markdown",
   "id": "1a4074c9",
   "metadata": {},
   "source": [
    "# Import tables as Pandas Dataframes"
   ]
  },
  {
   "cell_type": "markdown",
   "id": "088c4aca",
   "metadata": {},
   "source": [
    "## Dataframe - Students"
   ]
  },
  {
   "cell_type": "code",
   "execution_count": 40,
   "id": "2aafc562",
   "metadata": {},
   "outputs": [],
   "source": [
    "students_df = pd.read_sql_query(\"SELECT * FROM cademycode_students\", con = connection)"
   ]
  },
  {
   "cell_type": "code",
   "execution_count": 41,
   "id": "096e2da9",
   "metadata": {},
   "outputs": [
    {
     "data": {
      "text/html": [
       "<div>\n",
       "<style scoped>\n",
       "    .dataframe tbody tr th:only-of-type {\n",
       "        vertical-align: middle;\n",
       "    }\n",
       "\n",
       "    .dataframe tbody tr th {\n",
       "        vertical-align: top;\n",
       "    }\n",
       "\n",
       "    .dataframe thead th {\n",
       "        text-align: right;\n",
       "    }\n",
       "</style>\n",
       "<table border=\"1\" class=\"dataframe\">\n",
       "  <thead>\n",
       "    <tr style=\"text-align: right;\">\n",
       "      <th></th>\n",
       "      <th>uuid</th>\n",
       "      <th>name</th>\n",
       "      <th>dob</th>\n",
       "      <th>sex</th>\n",
       "      <th>contact_info</th>\n",
       "      <th>job_id</th>\n",
       "      <th>num_course_taken</th>\n",
       "      <th>current_career_path_id</th>\n",
       "      <th>time_spent_hrs</th>\n",
       "    </tr>\n",
       "  </thead>\n",
       "  <tbody>\n",
       "    <tr>\n",
       "      <th>0</th>\n",
       "      <td>1</td>\n",
       "      <td>Annabelle Avery</td>\n",
       "      <td>1943-07-03</td>\n",
       "      <td>F</td>\n",
       "      <td>{\"mailing_address\": \"303 N Timber Key, Irondal...</td>\n",
       "      <td>7.0</td>\n",
       "      <td>6.0</td>\n",
       "      <td>1.0</td>\n",
       "      <td>4.99</td>\n",
       "    </tr>\n",
       "    <tr>\n",
       "      <th>1</th>\n",
       "      <td>2</td>\n",
       "      <td>Micah Rubio</td>\n",
       "      <td>1991-02-07</td>\n",
       "      <td>M</td>\n",
       "      <td>{\"mailing_address\": \"767 Crescent Fair, Shoals...</td>\n",
       "      <td>7.0</td>\n",
       "      <td>5.0</td>\n",
       "      <td>8.0</td>\n",
       "      <td>4.4</td>\n",
       "    </tr>\n",
       "    <tr>\n",
       "      <th>2</th>\n",
       "      <td>3</td>\n",
       "      <td>Hosea Dale</td>\n",
       "      <td>1989-12-07</td>\n",
       "      <td>M</td>\n",
       "      <td>{\"mailing_address\": \"P.O. Box 41269, St. Bonav...</td>\n",
       "      <td>7.0</td>\n",
       "      <td>8.0</td>\n",
       "      <td>8.0</td>\n",
       "      <td>6.74</td>\n",
       "    </tr>\n",
       "    <tr>\n",
       "      <th>3</th>\n",
       "      <td>4</td>\n",
       "      <td>Mariann Kirk</td>\n",
       "      <td>1988-07-31</td>\n",
       "      <td>F</td>\n",
       "      <td>{\"mailing_address\": \"517 SE Wintergreen Isle, ...</td>\n",
       "      <td>6.0</td>\n",
       "      <td>7.0</td>\n",
       "      <td>9.0</td>\n",
       "      <td>12.31</td>\n",
       "    </tr>\n",
       "    <tr>\n",
       "      <th>4</th>\n",
       "      <td>5</td>\n",
       "      <td>Lucio Alexander</td>\n",
       "      <td>1963-08-31</td>\n",
       "      <td>M</td>\n",
       "      <td>{\"mailing_address\": \"18 Cinder Cliff, Doyles b...</td>\n",
       "      <td>7.0</td>\n",
       "      <td>14.0</td>\n",
       "      <td>3.0</td>\n",
       "      <td>5.64</td>\n",
       "    </tr>\n",
       "  </tbody>\n",
       "</table>\n",
       "</div>"
      ],
      "text/plain": [
       "   uuid             name         dob sex  \\\n",
       "0     1  Annabelle Avery  1943-07-03   F   \n",
       "1     2      Micah Rubio  1991-02-07   M   \n",
       "2     3       Hosea Dale  1989-12-07   M   \n",
       "3     4     Mariann Kirk  1988-07-31   F   \n",
       "4     5  Lucio Alexander  1963-08-31   M   \n",
       "\n",
       "                                        contact_info job_id num_course_taken  \\\n",
       "0  {\"mailing_address\": \"303 N Timber Key, Irondal...    7.0              6.0   \n",
       "1  {\"mailing_address\": \"767 Crescent Fair, Shoals...    7.0              5.0   \n",
       "2  {\"mailing_address\": \"P.O. Box 41269, St. Bonav...    7.0              8.0   \n",
       "3  {\"mailing_address\": \"517 SE Wintergreen Isle, ...    6.0              7.0   \n",
       "4  {\"mailing_address\": \"18 Cinder Cliff, Doyles b...    7.0             14.0   \n",
       "\n",
       "  current_career_path_id time_spent_hrs  \n",
       "0                    1.0           4.99  \n",
       "1                    8.0            4.4  \n",
       "2                    8.0           6.74  \n",
       "3                    9.0          12.31  \n",
       "4                    3.0           5.64  "
      ]
     },
     "execution_count": 41,
     "metadata": {},
     "output_type": "execute_result"
    }
   ],
   "source": [
    "students_df.head()"
   ]
  },
  {
   "cell_type": "markdown",
   "id": "75bef39a",
   "metadata": {},
   "source": [
    "**Info about Dataframe - Students**"
   ]
  },
  {
   "cell_type": "code",
   "execution_count": 42,
   "id": "a289dcda",
   "metadata": {},
   "outputs": [
    {
     "name": "stdout",
     "output_type": "stream",
     "text": [
      "<class 'pandas.core.frame.DataFrame'>\n",
      "RangeIndex: 5000 entries, 0 to 4999\n",
      "Data columns (total 9 columns):\n",
      " #   Column                  Non-Null Count  Dtype \n",
      "---  ------                  --------------  ----- \n",
      " 0   uuid                    5000 non-null   int64 \n",
      " 1   name                    5000 non-null   object\n",
      " 2   dob                     5000 non-null   object\n",
      " 3   sex                     5000 non-null   object\n",
      " 4   contact_info            5000 non-null   object\n",
      " 5   job_id                  4995 non-null   object\n",
      " 6   num_course_taken        4749 non-null   object\n",
      " 7   current_career_path_id  4529 non-null   object\n",
      " 8   time_spent_hrs          4529 non-null   object\n",
      "dtypes: int64(1), object(8)\n",
      "memory usage: 351.7+ KB\n"
     ]
    }
   ],
   "source": [
    "students_df.info()"
   ]
  },
  {
   "cell_type": "markdown",
   "id": "427105b9",
   "metadata": {},
   "source": [
    "**Shape of Dataframe-Students**"
   ]
  },
  {
   "cell_type": "code",
   "execution_count": 43,
   "id": "e31ec513",
   "metadata": {},
   "outputs": [
    {
     "data": {
      "text/plain": [
       "(5000, 9)"
      ]
     },
     "execution_count": 43,
     "metadata": {},
     "output_type": "execute_result"
    }
   ],
   "source": [
    "students_df.shape"
   ]
  },
  {
   "cell_type": "markdown",
   "id": "859c1b9d",
   "metadata": {},
   "source": [
    "**Column names of Dataframe - Students**"
   ]
  },
  {
   "cell_type": "code",
   "execution_count": 44,
   "id": "5e8d0386",
   "metadata": {},
   "outputs": [
    {
     "data": {
      "text/plain": [
       "Index(['uuid', 'name', 'dob', 'sex', 'contact_info', 'job_id',\n",
       "       'num_course_taken', 'current_career_path_id', 'time_spent_hrs'],\n",
       "      dtype='object')"
      ]
     },
     "execution_count": 44,
     "metadata": {},
     "output_type": "execute_result"
    }
   ],
   "source": [
    "students_df.columns"
   ]
  },
  {
   "cell_type": "markdown",
   "id": "53a2bf7a",
   "metadata": {},
   "source": [
    "**NAN Values in Dataframes - Students**"
   ]
  },
  {
   "cell_type": "markdown",
   "id": "02f59694",
   "metadata": {},
   "source": [
    "**Data types in Dataframe - Students**"
   ]
  },
  {
   "cell_type": "code",
   "execution_count": 45,
   "id": "7e8969e7",
   "metadata": {},
   "outputs": [
    {
     "data": {
      "text/plain": [
       "uuid                       int64\n",
       "name                      object\n",
       "dob                       object\n",
       "sex                       object\n",
       "contact_info              object\n",
       "job_id                    object\n",
       "num_course_taken          object\n",
       "current_career_path_id    object\n",
       "time_spent_hrs            object\n",
       "dtype: object"
      ]
     },
     "execution_count": 45,
     "metadata": {},
     "output_type": "execute_result"
    }
   ],
   "source": [
    "students_df.dtypes"
   ]
  },
  {
   "cell_type": "markdown",
   "id": "3c148611",
   "metadata": {},
   "source": [
    "**Duplicated student names**"
   ]
  },
  {
   "cell_type": "code",
   "execution_count": 46,
   "id": "ac9da5a6",
   "metadata": {},
   "outputs": [
    {
     "data": {
      "text/html": [
       "<div>\n",
       "<style scoped>\n",
       "    .dataframe tbody tr th:only-of-type {\n",
       "        vertical-align: middle;\n",
       "    }\n",
       "\n",
       "    .dataframe tbody tr th {\n",
       "        vertical-align: top;\n",
       "    }\n",
       "\n",
       "    .dataframe thead th {\n",
       "        text-align: right;\n",
       "    }\n",
       "</style>\n",
       "<table border=\"1\" class=\"dataframe\">\n",
       "  <thead>\n",
       "    <tr style=\"text-align: right;\">\n",
       "      <th></th>\n",
       "      <th>uuid</th>\n",
       "      <th>name</th>\n",
       "      <th>dob</th>\n",
       "      <th>sex</th>\n",
       "      <th>contact_info</th>\n",
       "      <th>job_id</th>\n",
       "      <th>num_course_taken</th>\n",
       "      <th>current_career_path_id</th>\n",
       "      <th>time_spent_hrs</th>\n",
       "    </tr>\n",
       "  </thead>\n",
       "  <tbody>\n",
       "    <tr>\n",
       "      <th>534</th>\n",
       "      <td>535</td>\n",
       "      <td>Robbie Davies</td>\n",
       "      <td>1965-06-11</td>\n",
       "      <td>F</td>\n",
       "      <td>{\"mailing_address\": \"666 Dusty Land, Pangburn,...</td>\n",
       "      <td>5.0</td>\n",
       "      <td>15.0</td>\n",
       "      <td>3.0</td>\n",
       "      <td>0.53</td>\n",
       "    </tr>\n",
       "    <tr>\n",
       "      <th>1118</th>\n",
       "      <td>1119</td>\n",
       "      <td>Melvin Felt</td>\n",
       "      <td>1955-07-30</td>\n",
       "      <td>N</td>\n",
       "      <td>{\"mailing_address\": \"804 Rustic Elm, Geneseo v...</td>\n",
       "      <td>3.0</td>\n",
       "      <td>6.0</td>\n",
       "      <td>10.0</td>\n",
       "      <td>2.77</td>\n",
       "    </tr>\n",
       "    <tr>\n",
       "      <th>2116</th>\n",
       "      <td>2117</td>\n",
       "      <td>Robbie Davies</td>\n",
       "      <td>1942-10-17</td>\n",
       "      <td>M</td>\n",
       "      <td>{\"mailing_address\": \"111 Squaw Alley, Buckeye,...</td>\n",
       "      <td>7.0</td>\n",
       "      <td>0.0</td>\n",
       "      <td>None</td>\n",
       "      <td>None</td>\n",
       "    </tr>\n",
       "    <tr>\n",
       "      <th>3583</th>\n",
       "      <td>3584</td>\n",
       "      <td>Melvin Felt</td>\n",
       "      <td>1987-08-25</td>\n",
       "      <td>N</td>\n",
       "      <td>{\"mailing_address\": \"54 Noble Loaf Run, Lakela...</td>\n",
       "      <td>3.0</td>\n",
       "      <td>11.0</td>\n",
       "      <td>1.0</td>\n",
       "      <td>0.47</td>\n",
       "    </tr>\n",
       "  </tbody>\n",
       "</table>\n",
       "</div>"
      ],
      "text/plain": [
       "      uuid           name         dob sex  \\\n",
       "534    535  Robbie Davies  1965-06-11   F   \n",
       "1118  1119    Melvin Felt  1955-07-30   N   \n",
       "2116  2117  Robbie Davies  1942-10-17   M   \n",
       "3583  3584    Melvin Felt  1987-08-25   N   \n",
       "\n",
       "                                           contact_info job_id  \\\n",
       "534   {\"mailing_address\": \"666 Dusty Land, Pangburn,...    5.0   \n",
       "1118  {\"mailing_address\": \"804 Rustic Elm, Geneseo v...    3.0   \n",
       "2116  {\"mailing_address\": \"111 Squaw Alley, Buckeye,...    7.0   \n",
       "3583  {\"mailing_address\": \"54 Noble Loaf Run, Lakela...    3.0   \n",
       "\n",
       "     num_course_taken current_career_path_id time_spent_hrs  \n",
       "534              15.0                    3.0           0.53  \n",
       "1118              6.0                   10.0           2.77  \n",
       "2116              0.0                   None           None  \n",
       "3583             11.0                    1.0           0.47  "
      ]
     },
     "execution_count": 46,
     "metadata": {},
     "output_type": "execute_result"
    }
   ],
   "source": [
    "students_df[students_df.name.duplicated(keep=False)]"
   ]
  },
  {
   "cell_type": "markdown",
   "id": "e1a51d74",
   "metadata": {},
   "source": [
    "**All rows with NAN values**"
   ]
  },
  {
   "cell_type": "code",
   "execution_count": 47,
   "id": "51164072",
   "metadata": {},
   "outputs": [
    {
     "data": {
      "text/html": [
       "<div>\n",
       "<style scoped>\n",
       "    .dataframe tbody tr th:only-of-type {\n",
       "        vertical-align: middle;\n",
       "    }\n",
       "\n",
       "    .dataframe tbody tr th {\n",
       "        vertical-align: top;\n",
       "    }\n",
       "\n",
       "    .dataframe thead th {\n",
       "        text-align: right;\n",
       "    }\n",
       "</style>\n",
       "<table border=\"1\" class=\"dataframe\">\n",
       "  <thead>\n",
       "    <tr style=\"text-align: right;\">\n",
       "      <th></th>\n",
       "      <th>uuid</th>\n",
       "      <th>name</th>\n",
       "      <th>dob</th>\n",
       "      <th>sex</th>\n",
       "      <th>contact_info</th>\n",
       "      <th>job_id</th>\n",
       "      <th>num_course_taken</th>\n",
       "      <th>current_career_path_id</th>\n",
       "      <th>time_spent_hrs</th>\n",
       "    </tr>\n",
       "  </thead>\n",
       "  <tbody>\n",
       "    <tr>\n",
       "      <th>15</th>\n",
       "      <td>16</td>\n",
       "      <td>Norene Dalton</td>\n",
       "      <td>1976-04-30</td>\n",
       "      <td>F</td>\n",
       "      <td>{\"mailing_address\": \"130 Wishing Essex, Branch...</td>\n",
       "      <td>6.0</td>\n",
       "      <td>0.0</td>\n",
       "      <td>None</td>\n",
       "      <td>None</td>\n",
       "    </tr>\n",
       "    <tr>\n",
       "      <th>19</th>\n",
       "      <td>20</td>\n",
       "      <td>Sofia van Steenbergen</td>\n",
       "      <td>1990-02-21</td>\n",
       "      <td>N</td>\n",
       "      <td>{\"mailing_address\": \"634 Clear Barn Dell, Beam...</td>\n",
       "      <td>7.0</td>\n",
       "      <td>13.0</td>\n",
       "      <td>None</td>\n",
       "      <td>None</td>\n",
       "    </tr>\n",
       "    <tr>\n",
       "      <th>25</th>\n",
       "      <td>26</td>\n",
       "      <td>Doug Browning</td>\n",
       "      <td>1970-06-08</td>\n",
       "      <td>M</td>\n",
       "      <td>{\"mailing_address\": \"P.O. Box 15845, Devine, F...</td>\n",
       "      <td>7.0</td>\n",
       "      <td>None</td>\n",
       "      <td>5.0</td>\n",
       "      <td>1.92</td>\n",
       "    </tr>\n",
       "    <tr>\n",
       "      <th>26</th>\n",
       "      <td>27</td>\n",
       "      <td>Damon Schrauwen</td>\n",
       "      <td>1953-10-31</td>\n",
       "      <td>M</td>\n",
       "      <td>{\"mailing_address\": \"P.O. Box 84659, Maben, Ge...</td>\n",
       "      <td>4.0</td>\n",
       "      <td>None</td>\n",
       "      <td>10.0</td>\n",
       "      <td>3.73</td>\n",
       "    </tr>\n",
       "    <tr>\n",
       "      <th>30</th>\n",
       "      <td>31</td>\n",
       "      <td>Christoper Warner</td>\n",
       "      <td>1989-12-28</td>\n",
       "      <td>M</td>\n",
       "      <td>{\"mailing_address\": \"556 Stony Highlands, Drai...</td>\n",
       "      <td>2.0</td>\n",
       "      <td>5.0</td>\n",
       "      <td>None</td>\n",
       "      <td>None</td>\n",
       "    </tr>\n",
       "    <tr>\n",
       "      <th>...</th>\n",
       "      <td>...</td>\n",
       "      <td>...</td>\n",
       "      <td>...</td>\n",
       "      <td>...</td>\n",
       "      <td>...</td>\n",
       "      <td>...</td>\n",
       "      <td>...</td>\n",
       "      <td>...</td>\n",
       "      <td>...</td>\n",
       "    </tr>\n",
       "    <tr>\n",
       "      <th>4948</th>\n",
       "      <td>4949</td>\n",
       "      <td>Dewitt van Malsem</td>\n",
       "      <td>1949-03-08</td>\n",
       "      <td>M</td>\n",
       "      <td>{\"mailing_address\": \"423 Course Trail, Wilmot,...</td>\n",
       "      <td>4.0</td>\n",
       "      <td>7.0</td>\n",
       "      <td>None</td>\n",
       "      <td>None</td>\n",
       "    </tr>\n",
       "    <tr>\n",
       "      <th>4956</th>\n",
       "      <td>4957</td>\n",
       "      <td>Todd Stamhuis</td>\n",
       "      <td>1961-06-15</td>\n",
       "      <td>M</td>\n",
       "      <td>{\"mailing_address\": \"251 Grand Rose Underpass,...</td>\n",
       "      <td>7.0</td>\n",
       "      <td>8.0</td>\n",
       "      <td>None</td>\n",
       "      <td>None</td>\n",
       "    </tr>\n",
       "    <tr>\n",
       "      <th>4974</th>\n",
       "      <td>4975</td>\n",
       "      <td>Jorge Creelman</td>\n",
       "      <td>1944-11-24</td>\n",
       "      <td>M</td>\n",
       "      <td>{\"mailing_address\": \"919 Well Overpass, Linden...</td>\n",
       "      <td>2.0</td>\n",
       "      <td>15.0</td>\n",
       "      <td>None</td>\n",
       "      <td>None</td>\n",
       "    </tr>\n",
       "    <tr>\n",
       "      <th>4980</th>\n",
       "      <td>4981</td>\n",
       "      <td>Brice Franklin</td>\n",
       "      <td>1946-12-01</td>\n",
       "      <td>M</td>\n",
       "      <td>{\"mailing_address\": \"947 Panda Way, New Bedfor...</td>\n",
       "      <td>4.0</td>\n",
       "      <td>None</td>\n",
       "      <td>5.0</td>\n",
       "      <td>8.66</td>\n",
       "    </tr>\n",
       "    <tr>\n",
       "      <th>4985</th>\n",
       "      <td>4986</td>\n",
       "      <td>Russel Vonck</td>\n",
       "      <td>1994-09-07</td>\n",
       "      <td>M</td>\n",
       "      <td>{\"mailing_address\": \"815 Middle Timber Corner,...</td>\n",
       "      <td>5.0</td>\n",
       "      <td>None</td>\n",
       "      <td>5.0</td>\n",
       "      <td>16.44</td>\n",
       "    </tr>\n",
       "  </tbody>\n",
       "</table>\n",
       "<p>707 rows × 9 columns</p>\n",
       "</div>"
      ],
      "text/plain": [
       "      uuid                   name         dob sex  \\\n",
       "15      16          Norene Dalton  1976-04-30   F   \n",
       "19      20  Sofia van Steenbergen  1990-02-21   N   \n",
       "25      26          Doug Browning  1970-06-08   M   \n",
       "26      27        Damon Schrauwen  1953-10-31   M   \n",
       "30      31      Christoper Warner  1989-12-28   M   \n",
       "...    ...                    ...         ...  ..   \n",
       "4948  4949      Dewitt van Malsem  1949-03-08   M   \n",
       "4956  4957          Todd Stamhuis  1961-06-15   M   \n",
       "4974  4975         Jorge Creelman  1944-11-24   M   \n",
       "4980  4981         Brice Franklin  1946-12-01   M   \n",
       "4985  4986           Russel Vonck  1994-09-07   M   \n",
       "\n",
       "                                           contact_info job_id  \\\n",
       "15    {\"mailing_address\": \"130 Wishing Essex, Branch...    6.0   \n",
       "19    {\"mailing_address\": \"634 Clear Barn Dell, Beam...    7.0   \n",
       "25    {\"mailing_address\": \"P.O. Box 15845, Devine, F...    7.0   \n",
       "26    {\"mailing_address\": \"P.O. Box 84659, Maben, Ge...    4.0   \n",
       "30    {\"mailing_address\": \"556 Stony Highlands, Drai...    2.0   \n",
       "...                                                 ...    ...   \n",
       "4948  {\"mailing_address\": \"423 Course Trail, Wilmot,...    4.0   \n",
       "4956  {\"mailing_address\": \"251 Grand Rose Underpass,...    7.0   \n",
       "4974  {\"mailing_address\": \"919 Well Overpass, Linden...    2.0   \n",
       "4980  {\"mailing_address\": \"947 Panda Way, New Bedfor...    4.0   \n",
       "4985  {\"mailing_address\": \"815 Middle Timber Corner,...    5.0   \n",
       "\n",
       "     num_course_taken current_career_path_id time_spent_hrs  \n",
       "15                0.0                   None           None  \n",
       "19               13.0                   None           None  \n",
       "25               None                    5.0           1.92  \n",
       "26               None                   10.0           3.73  \n",
       "30                5.0                   None           None  \n",
       "...               ...                    ...            ...  \n",
       "4948              7.0                   None           None  \n",
       "4956              8.0                   None           None  \n",
       "4974             15.0                   None           None  \n",
       "4980             None                    5.0           8.66  \n",
       "4985             None                    5.0          16.44  \n",
       "\n",
       "[707 rows x 9 columns]"
      ]
     },
     "execution_count": 47,
     "metadata": {},
     "output_type": "execute_result"
    }
   ],
   "source": [
    "students_df[students_df.isna().any(axis = 1)]"
   ]
  },
  {
   "cell_type": "markdown",
   "id": "910ed54b",
   "metadata": {},
   "source": [
    "**Number of NAN value in column career for each job ID**"
   ]
  },
  {
   "cell_type": "code",
   "execution_count": 48,
   "id": "4c725446",
   "metadata": {},
   "outputs": [
    {
     "data": {
      "text/html": [
       "<div>\n",
       "<style scoped>\n",
       "    .dataframe tbody tr th:only-of-type {\n",
       "        vertical-align: middle;\n",
       "    }\n",
       "\n",
       "    .dataframe tbody tr th {\n",
       "        vertical-align: top;\n",
       "    }\n",
       "\n",
       "    .dataframe thead th {\n",
       "        text-align: right;\n",
       "    }\n",
       "</style>\n",
       "<table border=\"1\" class=\"dataframe\">\n",
       "  <thead>\n",
       "    <tr style=\"text-align: right;\">\n",
       "      <th>career_path_is_nan</th>\n",
       "      <th>False</th>\n",
       "      <th>True</th>\n",
       "    </tr>\n",
       "    <tr>\n",
       "      <th>job_ID</th>\n",
       "      <th></th>\n",
       "      <th></th>\n",
       "    </tr>\n",
       "  </thead>\n",
       "  <tbody>\n",
       "    <tr>\n",
       "      <th>1.0</th>\n",
       "      <td>641</td>\n",
       "      <td>52</td>\n",
       "    </tr>\n",
       "    <tr>\n",
       "      <th>2.0</th>\n",
       "      <td>645</td>\n",
       "      <td>61</td>\n",
       "    </tr>\n",
       "    <tr>\n",
       "      <th>3.0</th>\n",
       "      <td>618</td>\n",
       "      <td>57</td>\n",
       "    </tr>\n",
       "    <tr>\n",
       "      <th>4.0</th>\n",
       "      <td>612</td>\n",
       "      <td>59</td>\n",
       "    </tr>\n",
       "    <tr>\n",
       "      <th>5.0</th>\n",
       "      <td>590</td>\n",
       "      <td>70</td>\n",
       "    </tr>\n",
       "    <tr>\n",
       "      <th>6.0</th>\n",
       "      <td>572</td>\n",
       "      <td>85</td>\n",
       "    </tr>\n",
       "    <tr>\n",
       "      <th>7.0</th>\n",
       "      <td>618</td>\n",
       "      <td>62</td>\n",
       "    </tr>\n",
       "    <tr>\n",
       "      <th>8.0</th>\n",
       "      <td>228</td>\n",
       "      <td>25</td>\n",
       "    </tr>\n",
       "  </tbody>\n",
       "</table>\n",
       "</div>"
      ],
      "text/plain": [
       "career_path_is_nan  False  True \n",
       "job_ID                          \n",
       "1.0                   641     52\n",
       "2.0                   645     61\n",
       "3.0                   618     57\n",
       "4.0                   612     59\n",
       "5.0                   590     70\n",
       "6.0                   572     85\n",
       "7.0                   618     62\n",
       "8.0                   228     25"
      ]
     },
     "execution_count": 48,
     "metadata": {},
     "output_type": "execute_result"
    }
   ],
   "source": [
    "pd.crosstab(\n",
    "    students_df['job_id'],\n",
    "    students_df['current_career_path_id'].isna(),\n",
    "    rownames = ['job_ID'],\n",
    "    colnames = ['career_path_is_nan'])"
   ]
  },
  {
   "cell_type": "markdown",
   "id": "049a4298",
   "metadata": {},
   "source": [
    "**Number of unique values for each columns**"
   ]
  },
  {
   "cell_type": "code",
   "execution_count": 49,
   "id": "dc229b2c",
   "metadata": {},
   "outputs": [
    {
     "data": {
      "text/plain": [
       "uuid                      5000\n",
       "name                      4998\n",
       "dob                       4492\n",
       "sex                          3\n",
       "contact_info              5000\n",
       "job_id                       8\n",
       "num_course_taken            16\n",
       "current_career_path_id      10\n",
       "time_spent_hrs            2192\n",
       "dtype: int64"
      ]
     },
     "execution_count": 49,
     "metadata": {},
     "output_type": "execute_result"
    }
   ],
   "source": [
    "students_df.nunique()"
   ]
  },
  {
   "cell_type": "markdown",
   "id": "db799f57",
   "metadata": {},
   "source": [
    "## Dataframe - Courses"
   ]
  },
  {
   "cell_type": "code",
   "execution_count": 50,
   "id": "fd2920b6",
   "metadata": {},
   "outputs": [],
   "source": [
    "courses_df = pd.read_sql_query(\"SELECT * FROM cademycode_courses\", con = connection)"
   ]
  },
  {
   "cell_type": "code",
   "execution_count": 51,
   "id": "53ae09cc",
   "metadata": {},
   "outputs": [
    {
     "data": {
      "text/html": [
       "<div>\n",
       "<style scoped>\n",
       "    .dataframe tbody tr th:only-of-type {\n",
       "        vertical-align: middle;\n",
       "    }\n",
       "\n",
       "    .dataframe tbody tr th {\n",
       "        vertical-align: top;\n",
       "    }\n",
       "\n",
       "    .dataframe thead th {\n",
       "        text-align: right;\n",
       "    }\n",
       "</style>\n",
       "<table border=\"1\" class=\"dataframe\">\n",
       "  <thead>\n",
       "    <tr style=\"text-align: right;\">\n",
       "      <th></th>\n",
       "      <th>career_path_id</th>\n",
       "      <th>career_path_name</th>\n",
       "      <th>hours_to_complete</th>\n",
       "    </tr>\n",
       "  </thead>\n",
       "  <tbody>\n",
       "    <tr>\n",
       "      <th>0</th>\n",
       "      <td>1</td>\n",
       "      <td>data scientist</td>\n",
       "      <td>20</td>\n",
       "    </tr>\n",
       "    <tr>\n",
       "      <th>1</th>\n",
       "      <td>2</td>\n",
       "      <td>data engineer</td>\n",
       "      <td>20</td>\n",
       "    </tr>\n",
       "    <tr>\n",
       "      <th>2</th>\n",
       "      <td>3</td>\n",
       "      <td>data analyst</td>\n",
       "      <td>12</td>\n",
       "    </tr>\n",
       "    <tr>\n",
       "      <th>3</th>\n",
       "      <td>4</td>\n",
       "      <td>software engineering</td>\n",
       "      <td>25</td>\n",
       "    </tr>\n",
       "    <tr>\n",
       "      <th>4</th>\n",
       "      <td>5</td>\n",
       "      <td>backend engineer</td>\n",
       "      <td>18</td>\n",
       "    </tr>\n",
       "    <tr>\n",
       "      <th>5</th>\n",
       "      <td>6</td>\n",
       "      <td>frontend engineer</td>\n",
       "      <td>20</td>\n",
       "    </tr>\n",
       "    <tr>\n",
       "      <th>6</th>\n",
       "      <td>7</td>\n",
       "      <td>iOS developer</td>\n",
       "      <td>27</td>\n",
       "    </tr>\n",
       "    <tr>\n",
       "      <th>7</th>\n",
       "      <td>8</td>\n",
       "      <td>android developer</td>\n",
       "      <td>27</td>\n",
       "    </tr>\n",
       "    <tr>\n",
       "      <th>8</th>\n",
       "      <td>9</td>\n",
       "      <td>machine learning engineer</td>\n",
       "      <td>35</td>\n",
       "    </tr>\n",
       "    <tr>\n",
       "      <th>9</th>\n",
       "      <td>10</td>\n",
       "      <td>ux/ui designer</td>\n",
       "      <td>15</td>\n",
       "    </tr>\n",
       "  </tbody>\n",
       "</table>\n",
       "</div>"
      ],
      "text/plain": [
       "   career_path_id           career_path_name  hours_to_complete\n",
       "0               1             data scientist                 20\n",
       "1               2              data engineer                 20\n",
       "2               3               data analyst                 12\n",
       "3               4       software engineering                 25\n",
       "4               5           backend engineer                 18\n",
       "5               6          frontend engineer                 20\n",
       "6               7              iOS developer                 27\n",
       "7               8          android developer                 27\n",
       "8               9  machine learning engineer                 35\n",
       "9              10             ux/ui designer                 15"
      ]
     },
     "execution_count": 51,
     "metadata": {},
     "output_type": "execute_result"
    }
   ],
   "source": [
    "courses_df"
   ]
  },
  {
   "cell_type": "markdown",
   "id": "7dd4017b",
   "metadata": {},
   "source": [
    "**Info about Dataframe - Courses**"
   ]
  },
  {
   "cell_type": "code",
   "execution_count": 52,
   "id": "0c58820a",
   "metadata": {},
   "outputs": [
    {
     "name": "stdout",
     "output_type": "stream",
     "text": [
      "<class 'pandas.core.frame.DataFrame'>\n",
      "RangeIndex: 10 entries, 0 to 9\n",
      "Data columns (total 3 columns):\n",
      " #   Column             Non-Null Count  Dtype \n",
      "---  ------             --------------  ----- \n",
      " 0   career_path_id     10 non-null     int64 \n",
      " 1   career_path_name   10 non-null     object\n",
      " 2   hours_to_complete  10 non-null     int64 \n",
      "dtypes: int64(2), object(1)\n",
      "memory usage: 368.0+ bytes\n"
     ]
    }
   ],
   "source": [
    "courses_df.info()"
   ]
  },
  {
   "cell_type": "markdown",
   "id": "6663b4ab",
   "metadata": {},
   "source": [
    "**Shape of Dataframe - Courses**"
   ]
  },
  {
   "cell_type": "code",
   "execution_count": 53,
   "id": "9e1953a7",
   "metadata": {},
   "outputs": [
    {
     "data": {
      "text/plain": [
       "(10, 3)"
      ]
     },
     "execution_count": 53,
     "metadata": {},
     "output_type": "execute_result"
    }
   ],
   "source": [
    "courses_df.shape"
   ]
  },
  {
   "cell_type": "markdown",
   "id": "d4dd50c7",
   "metadata": {},
   "source": [
    "**NAN values in Dataframe - Courses**"
   ]
  },
  {
   "cell_type": "code",
   "execution_count": 54,
   "id": "c0fd769f",
   "metadata": {},
   "outputs": [
    {
     "data": {
      "text/plain": [
       "career_path_id       0\n",
       "career_path_name     0\n",
       "hours_to_complete    0\n",
       "dtype: int64"
      ]
     },
     "execution_count": 54,
     "metadata": {},
     "output_type": "execute_result"
    }
   ],
   "source": [
    "courses_df.isna().sum()"
   ]
  },
  {
   "cell_type": "markdown",
   "id": "64496009",
   "metadata": {},
   "source": [
    "**Data types in Dataframe - Courses**"
   ]
  },
  {
   "cell_type": "code",
   "execution_count": 55,
   "id": "e7604a02",
   "metadata": {},
   "outputs": [
    {
     "data": {
      "text/plain": [
       "career_path_id        int64\n",
       "career_path_name     object\n",
       "hours_to_complete     int64\n",
       "dtype: object"
      ]
     },
     "execution_count": 55,
     "metadata": {},
     "output_type": "execute_result"
    }
   ],
   "source": [
    "courses_df.dtypes"
   ]
  },
  {
   "cell_type": "markdown",
   "id": "cfee599b",
   "metadata": {},
   "source": [
    "## Dataframe - Student jobs"
   ]
  },
  {
   "cell_type": "code",
   "execution_count": 56,
   "id": "93e843a4",
   "metadata": {},
   "outputs": [],
   "source": [
    "student_jobs_df = pd.read_sql_query(\"SELECT * FROM cademycode_student_jobs\", con = connection)"
   ]
  },
  {
   "cell_type": "code",
   "execution_count": 57,
   "id": "94353ad6",
   "metadata": {},
   "outputs": [
    {
     "data": {
      "text/html": [
       "<div>\n",
       "<style scoped>\n",
       "    .dataframe tbody tr th:only-of-type {\n",
       "        vertical-align: middle;\n",
       "    }\n",
       "\n",
       "    .dataframe tbody tr th {\n",
       "        vertical-align: top;\n",
       "    }\n",
       "\n",
       "    .dataframe thead th {\n",
       "        text-align: right;\n",
       "    }\n",
       "</style>\n",
       "<table border=\"1\" class=\"dataframe\">\n",
       "  <thead>\n",
       "    <tr style=\"text-align: right;\">\n",
       "      <th></th>\n",
       "      <th>job_id</th>\n",
       "      <th>job_category</th>\n",
       "      <th>avg_salary</th>\n",
       "    </tr>\n",
       "  </thead>\n",
       "  <tbody>\n",
       "    <tr>\n",
       "      <th>0</th>\n",
       "      <td>1</td>\n",
       "      <td>analytics</td>\n",
       "      <td>86000</td>\n",
       "    </tr>\n",
       "    <tr>\n",
       "      <th>1</th>\n",
       "      <td>2</td>\n",
       "      <td>engineer</td>\n",
       "      <td>101000</td>\n",
       "    </tr>\n",
       "    <tr>\n",
       "      <th>2</th>\n",
       "      <td>3</td>\n",
       "      <td>software developer</td>\n",
       "      <td>110000</td>\n",
       "    </tr>\n",
       "    <tr>\n",
       "      <th>3</th>\n",
       "      <td>4</td>\n",
       "      <td>creative</td>\n",
       "      <td>66000</td>\n",
       "    </tr>\n",
       "    <tr>\n",
       "      <th>4</th>\n",
       "      <td>5</td>\n",
       "      <td>financial services</td>\n",
       "      <td>135000</td>\n",
       "    </tr>\n",
       "    <tr>\n",
       "      <th>5</th>\n",
       "      <td>6</td>\n",
       "      <td>education</td>\n",
       "      <td>61000</td>\n",
       "    </tr>\n",
       "    <tr>\n",
       "      <th>6</th>\n",
       "      <td>7</td>\n",
       "      <td>HR</td>\n",
       "      <td>80000</td>\n",
       "    </tr>\n",
       "    <tr>\n",
       "      <th>7</th>\n",
       "      <td>8</td>\n",
       "      <td>student</td>\n",
       "      <td>10000</td>\n",
       "    </tr>\n",
       "    <tr>\n",
       "      <th>8</th>\n",
       "      <td>9</td>\n",
       "      <td>healthcare</td>\n",
       "      <td>120000</td>\n",
       "    </tr>\n",
       "    <tr>\n",
       "      <th>9</th>\n",
       "      <td>0</td>\n",
       "      <td>other</td>\n",
       "      <td>80000</td>\n",
       "    </tr>\n",
       "    <tr>\n",
       "      <th>10</th>\n",
       "      <td>3</td>\n",
       "      <td>software developer</td>\n",
       "      <td>110000</td>\n",
       "    </tr>\n",
       "    <tr>\n",
       "      <th>11</th>\n",
       "      <td>4</td>\n",
       "      <td>creative</td>\n",
       "      <td>66000</td>\n",
       "    </tr>\n",
       "    <tr>\n",
       "      <th>12</th>\n",
       "      <td>5</td>\n",
       "      <td>financial services</td>\n",
       "      <td>135000</td>\n",
       "    </tr>\n",
       "  </tbody>\n",
       "</table>\n",
       "</div>"
      ],
      "text/plain": [
       "    job_id        job_category  avg_salary\n",
       "0        1           analytics       86000\n",
       "1        2            engineer      101000\n",
       "2        3  software developer      110000\n",
       "3        4            creative       66000\n",
       "4        5  financial services      135000\n",
       "5        6           education       61000\n",
       "6        7                  HR       80000\n",
       "7        8             student       10000\n",
       "8        9          healthcare      120000\n",
       "9        0               other       80000\n",
       "10       3  software developer      110000\n",
       "11       4            creative       66000\n",
       "12       5  financial services      135000"
      ]
     },
     "execution_count": 57,
     "metadata": {},
     "output_type": "execute_result"
    }
   ],
   "source": [
    "student_jobs_df"
   ]
  },
  {
   "cell_type": "markdown",
   "id": "f12f6bf8",
   "metadata": {},
   "source": [
    "**Info about Dataframe - Student jobs**"
   ]
  },
  {
   "cell_type": "code",
   "execution_count": 58,
   "id": "2fab3176",
   "metadata": {},
   "outputs": [
    {
     "name": "stdout",
     "output_type": "stream",
     "text": [
      "<class 'pandas.core.frame.DataFrame'>\n",
      "RangeIndex: 13 entries, 0 to 12\n",
      "Data columns (total 3 columns):\n",
      " #   Column        Non-Null Count  Dtype \n",
      "---  ------        --------------  ----- \n",
      " 0   job_id        13 non-null     int64 \n",
      " 1   job_category  13 non-null     object\n",
      " 2   avg_salary    13 non-null     int64 \n",
      "dtypes: int64(2), object(1)\n",
      "memory usage: 440.0+ bytes\n"
     ]
    }
   ],
   "source": [
    "student_jobs_df.info()"
   ]
  },
  {
   "cell_type": "markdown",
   "id": "751a2170",
   "metadata": {},
   "source": [
    "**Shape of Dataframe - Student jobs**"
   ]
  },
  {
   "cell_type": "code",
   "execution_count": 59,
   "id": "baecf116",
   "metadata": {},
   "outputs": [
    {
     "data": {
      "text/plain": [
       "(13, 3)"
      ]
     },
     "execution_count": 59,
     "metadata": {},
     "output_type": "execute_result"
    }
   ],
   "source": [
    "student_jobs_df.shape"
   ]
  },
  {
   "cell_type": "markdown",
   "id": "5ea04760",
   "metadata": {},
   "source": [
    "**NAN values in Dataframe - Student jobs**"
   ]
  },
  {
   "cell_type": "code",
   "execution_count": 60,
   "id": "e6d143d1",
   "metadata": {},
   "outputs": [
    {
     "data": {
      "text/plain": [
       "job_id          0\n",
       "job_category    0\n",
       "avg_salary      0\n",
       "dtype: int64"
      ]
     },
     "execution_count": 60,
     "metadata": {},
     "output_type": "execute_result"
    }
   ],
   "source": [
    "student_jobs_df.isna().sum()"
   ]
  },
  {
   "cell_type": "markdown",
   "id": "bc5b22fb",
   "metadata": {},
   "source": [
    "**Data types Dataframe - Student jobs**"
   ]
  },
  {
   "cell_type": "code",
   "execution_count": 61,
   "id": "d9d440ec",
   "metadata": {},
   "outputs": [
    {
     "data": {
      "text/plain": [
       "job_id           int64\n",
       "job_category    object\n",
       "avg_salary       int64\n",
       "dtype: object"
      ]
     },
     "execution_count": 61,
     "metadata": {},
     "output_type": "execute_result"
    }
   ],
   "source": [
    "student_jobs_df.dtypes"
   ]
  },
  {
   "cell_type": "markdown",
   "id": "fdf0599d",
   "metadata": {},
   "source": [
    "# Summary of data inspection"
   ]
  },
  {
   "cell_type": "markdown",
   "id": "69c029fb",
   "metadata": {},
   "source": [
    "1. student jobs dataframe has duplicities\n",
    "2. There are 2 duplicated names in dataframe Students\n",
    "3. highest number of NAN values in column \"current_career_path_id\" has job_id equal to \"Education\" and \"HR\".\n",
    "4. Five rows has job_id as 'None'\n",
    "5. Career Path as 'None' may indicate that the individual student has not decided about his career yet --> new career category can be defined named as 'unknown'. \n",
    "6. NAN in time_spent_hrs can be replaced by median value\n",
    "7. There are 707 rows with NAN value in these columns: job_id, num_course_taken, current_career_path_id, time_spent_hrs"
   ]
  },
  {
   "cell_type": "markdown",
   "id": "5ffc5eaa",
   "metadata": {},
   "source": [
    "# Data cleaning"
   ]
  },
  {
   "cell_type": "markdown",
   "id": "530628f3",
   "metadata": {},
   "source": [
    "## Dataframe Student jobs"
   ]
  },
  {
   "cell_type": "markdown",
   "id": "aed73c5d",
   "metadata": {},
   "source": [
    "**Duplicate rows can be dropped**"
   ]
  },
  {
   "cell_type": "code",
   "execution_count": 62,
   "id": "545134cd",
   "metadata": {},
   "outputs": [],
   "source": [
    "student_jobs_df_new = student_jobs_df.drop_duplicates()"
   ]
  },
  {
   "cell_type": "code",
   "execution_count": 63,
   "id": "ce7d6aea",
   "metadata": {},
   "outputs": [
    {
     "data": {
      "text/html": [
       "<div>\n",
       "<style scoped>\n",
       "    .dataframe tbody tr th:only-of-type {\n",
       "        vertical-align: middle;\n",
       "    }\n",
       "\n",
       "    .dataframe tbody tr th {\n",
       "        vertical-align: top;\n",
       "    }\n",
       "\n",
       "    .dataframe thead th {\n",
       "        text-align: right;\n",
       "    }\n",
       "</style>\n",
       "<table border=\"1\" class=\"dataframe\">\n",
       "  <thead>\n",
       "    <tr style=\"text-align: right;\">\n",
       "      <th></th>\n",
       "      <th>job_id</th>\n",
       "      <th>job_category</th>\n",
       "      <th>avg_salary</th>\n",
       "    </tr>\n",
       "  </thead>\n",
       "  <tbody>\n",
       "    <tr>\n",
       "      <th>0</th>\n",
       "      <td>1</td>\n",
       "      <td>analytics</td>\n",
       "      <td>86000</td>\n",
       "    </tr>\n",
       "    <tr>\n",
       "      <th>1</th>\n",
       "      <td>2</td>\n",
       "      <td>engineer</td>\n",
       "      <td>101000</td>\n",
       "    </tr>\n",
       "    <tr>\n",
       "      <th>2</th>\n",
       "      <td>3</td>\n",
       "      <td>software developer</td>\n",
       "      <td>110000</td>\n",
       "    </tr>\n",
       "    <tr>\n",
       "      <th>3</th>\n",
       "      <td>4</td>\n",
       "      <td>creative</td>\n",
       "      <td>66000</td>\n",
       "    </tr>\n",
       "    <tr>\n",
       "      <th>4</th>\n",
       "      <td>5</td>\n",
       "      <td>financial services</td>\n",
       "      <td>135000</td>\n",
       "    </tr>\n",
       "    <tr>\n",
       "      <th>5</th>\n",
       "      <td>6</td>\n",
       "      <td>education</td>\n",
       "      <td>61000</td>\n",
       "    </tr>\n",
       "    <tr>\n",
       "      <th>6</th>\n",
       "      <td>7</td>\n",
       "      <td>HR</td>\n",
       "      <td>80000</td>\n",
       "    </tr>\n",
       "    <tr>\n",
       "      <th>7</th>\n",
       "      <td>8</td>\n",
       "      <td>student</td>\n",
       "      <td>10000</td>\n",
       "    </tr>\n",
       "    <tr>\n",
       "      <th>8</th>\n",
       "      <td>9</td>\n",
       "      <td>healthcare</td>\n",
       "      <td>120000</td>\n",
       "    </tr>\n",
       "    <tr>\n",
       "      <th>9</th>\n",
       "      <td>0</td>\n",
       "      <td>other</td>\n",
       "      <td>80000</td>\n",
       "    </tr>\n",
       "  </tbody>\n",
       "</table>\n",
       "</div>"
      ],
      "text/plain": [
       "   job_id        job_category  avg_salary\n",
       "0       1           analytics       86000\n",
       "1       2            engineer      101000\n",
       "2       3  software developer      110000\n",
       "3       4            creative       66000\n",
       "4       5  financial services      135000\n",
       "5       6           education       61000\n",
       "6       7                  HR       80000\n",
       "7       8             student       10000\n",
       "8       9          healthcare      120000\n",
       "9       0               other       80000"
      ]
     },
     "execution_count": 63,
     "metadata": {},
     "output_type": "execute_result"
    }
   ],
   "source": [
    "student_jobs_df_new"
   ]
  },
  {
   "cell_type": "markdown",
   "id": "b9bb0388",
   "metadata": {},
   "source": [
    "## Dataframe - Courses"
   ]
  },
  {
   "cell_type": "code",
   "execution_count": 64,
   "id": "47a5bf8e",
   "metadata": {},
   "outputs": [],
   "source": [
    "new_row_course = {'career_path_id' : [0], 'career_path_name' : ['unknown'], 'hours_to_complete' : [0]}\n",
    "new_row_course_df = pd.DataFrame(data = new_row_course)"
   ]
  },
  {
   "cell_type": "code",
   "execution_count": 65,
   "id": "dd9d5916",
   "metadata": {},
   "outputs": [],
   "source": [
    "courses_df_new = pd.concat([new_row_course_df, courses_df], axis = 0).reset_index().drop(labels = ('index'), axis =1)"
   ]
  },
  {
   "cell_type": "code",
   "execution_count": 66,
   "id": "6fcec1bc",
   "metadata": {},
   "outputs": [
    {
     "data": {
      "text/html": [
       "<div>\n",
       "<style scoped>\n",
       "    .dataframe tbody tr th:only-of-type {\n",
       "        vertical-align: middle;\n",
       "    }\n",
       "\n",
       "    .dataframe tbody tr th {\n",
       "        vertical-align: top;\n",
       "    }\n",
       "\n",
       "    .dataframe thead th {\n",
       "        text-align: right;\n",
       "    }\n",
       "</style>\n",
       "<table border=\"1\" class=\"dataframe\">\n",
       "  <thead>\n",
       "    <tr style=\"text-align: right;\">\n",
       "      <th></th>\n",
       "      <th>career_path_id</th>\n",
       "      <th>career_path_name</th>\n",
       "      <th>hours_to_complete</th>\n",
       "    </tr>\n",
       "  </thead>\n",
       "  <tbody>\n",
       "    <tr>\n",
       "      <th>0</th>\n",
       "      <td>0</td>\n",
       "      <td>unknown</td>\n",
       "      <td>0</td>\n",
       "    </tr>\n",
       "    <tr>\n",
       "      <th>1</th>\n",
       "      <td>1</td>\n",
       "      <td>data scientist</td>\n",
       "      <td>20</td>\n",
       "    </tr>\n",
       "    <tr>\n",
       "      <th>2</th>\n",
       "      <td>2</td>\n",
       "      <td>data engineer</td>\n",
       "      <td>20</td>\n",
       "    </tr>\n",
       "    <tr>\n",
       "      <th>3</th>\n",
       "      <td>3</td>\n",
       "      <td>data analyst</td>\n",
       "      <td>12</td>\n",
       "    </tr>\n",
       "    <tr>\n",
       "      <th>4</th>\n",
       "      <td>4</td>\n",
       "      <td>software engineering</td>\n",
       "      <td>25</td>\n",
       "    </tr>\n",
       "    <tr>\n",
       "      <th>5</th>\n",
       "      <td>5</td>\n",
       "      <td>backend engineer</td>\n",
       "      <td>18</td>\n",
       "    </tr>\n",
       "    <tr>\n",
       "      <th>6</th>\n",
       "      <td>6</td>\n",
       "      <td>frontend engineer</td>\n",
       "      <td>20</td>\n",
       "    </tr>\n",
       "    <tr>\n",
       "      <th>7</th>\n",
       "      <td>7</td>\n",
       "      <td>iOS developer</td>\n",
       "      <td>27</td>\n",
       "    </tr>\n",
       "    <tr>\n",
       "      <th>8</th>\n",
       "      <td>8</td>\n",
       "      <td>android developer</td>\n",
       "      <td>27</td>\n",
       "    </tr>\n",
       "    <tr>\n",
       "      <th>9</th>\n",
       "      <td>9</td>\n",
       "      <td>machine learning engineer</td>\n",
       "      <td>35</td>\n",
       "    </tr>\n",
       "    <tr>\n",
       "      <th>10</th>\n",
       "      <td>10</td>\n",
       "      <td>ux/ui designer</td>\n",
       "      <td>15</td>\n",
       "    </tr>\n",
       "  </tbody>\n",
       "</table>\n",
       "</div>"
      ],
      "text/plain": [
       "    career_path_id           career_path_name  hours_to_complete\n",
       "0                0                    unknown                  0\n",
       "1                1             data scientist                 20\n",
       "2                2              data engineer                 20\n",
       "3                3               data analyst                 12\n",
       "4                4       software engineering                 25\n",
       "5                5           backend engineer                 18\n",
       "6                6          frontend engineer                 20\n",
       "7                7              iOS developer                 27\n",
       "8                8          android developer                 27\n",
       "9                9  machine learning engineer                 35\n",
       "10              10             ux/ui designer                 15"
      ]
     },
     "execution_count": 66,
     "metadata": {},
     "output_type": "execute_result"
    }
   ],
   "source": [
    "courses_df_new"
   ]
  },
  {
   "cell_type": "markdown",
   "id": "ff694c9b",
   "metadata": {},
   "source": [
    "## Dataframe Students"
   ]
  },
  {
   "cell_type": "code",
   "execution_count": 67,
   "id": "09f977c5",
   "metadata": {},
   "outputs": [],
   "source": [
    "students_df_new = students_df.copy(deep = True)"
   ]
  },
  {
   "cell_type": "code",
   "execution_count": 68,
   "id": "e9d6d940",
   "metadata": {},
   "outputs": [
    {
     "data": {
      "text/html": [
       "<div>\n",
       "<style scoped>\n",
       "    .dataframe tbody tr th:only-of-type {\n",
       "        vertical-align: middle;\n",
       "    }\n",
       "\n",
       "    .dataframe tbody tr th {\n",
       "        vertical-align: top;\n",
       "    }\n",
       "\n",
       "    .dataframe thead th {\n",
       "        text-align: right;\n",
       "    }\n",
       "</style>\n",
       "<table border=\"1\" class=\"dataframe\">\n",
       "  <thead>\n",
       "    <tr style=\"text-align: right;\">\n",
       "      <th></th>\n",
       "      <th>uuid</th>\n",
       "      <th>name</th>\n",
       "      <th>dob</th>\n",
       "      <th>sex</th>\n",
       "      <th>contact_info</th>\n",
       "      <th>job_id</th>\n",
       "      <th>num_course_taken</th>\n",
       "      <th>current_career_path_id</th>\n",
       "      <th>time_spent_hrs</th>\n",
       "    </tr>\n",
       "  </thead>\n",
       "  <tbody>\n",
       "    <tr>\n",
       "      <th>0</th>\n",
       "      <td>1</td>\n",
       "      <td>Annabelle Avery</td>\n",
       "      <td>1943-07-03</td>\n",
       "      <td>F</td>\n",
       "      <td>{\"mailing_address\": \"303 N Timber Key, Irondal...</td>\n",
       "      <td>7.0</td>\n",
       "      <td>6.0</td>\n",
       "      <td>1.0</td>\n",
       "      <td>4.99</td>\n",
       "    </tr>\n",
       "    <tr>\n",
       "      <th>1</th>\n",
       "      <td>2</td>\n",
       "      <td>Micah Rubio</td>\n",
       "      <td>1991-02-07</td>\n",
       "      <td>M</td>\n",
       "      <td>{\"mailing_address\": \"767 Crescent Fair, Shoals...</td>\n",
       "      <td>7.0</td>\n",
       "      <td>5.0</td>\n",
       "      <td>8.0</td>\n",
       "      <td>4.4</td>\n",
       "    </tr>\n",
       "    <tr>\n",
       "      <th>2</th>\n",
       "      <td>3</td>\n",
       "      <td>Hosea Dale</td>\n",
       "      <td>1989-12-07</td>\n",
       "      <td>M</td>\n",
       "      <td>{\"mailing_address\": \"P.O. Box 41269, St. Bonav...</td>\n",
       "      <td>7.0</td>\n",
       "      <td>8.0</td>\n",
       "      <td>8.0</td>\n",
       "      <td>6.74</td>\n",
       "    </tr>\n",
       "    <tr>\n",
       "      <th>3</th>\n",
       "      <td>4</td>\n",
       "      <td>Mariann Kirk</td>\n",
       "      <td>1988-07-31</td>\n",
       "      <td>F</td>\n",
       "      <td>{\"mailing_address\": \"517 SE Wintergreen Isle, ...</td>\n",
       "      <td>6.0</td>\n",
       "      <td>7.0</td>\n",
       "      <td>9.0</td>\n",
       "      <td>12.31</td>\n",
       "    </tr>\n",
       "    <tr>\n",
       "      <th>4</th>\n",
       "      <td>5</td>\n",
       "      <td>Lucio Alexander</td>\n",
       "      <td>1963-08-31</td>\n",
       "      <td>M</td>\n",
       "      <td>{\"mailing_address\": \"18 Cinder Cliff, Doyles b...</td>\n",
       "      <td>7.0</td>\n",
       "      <td>14.0</td>\n",
       "      <td>3.0</td>\n",
       "      <td>5.64</td>\n",
       "    </tr>\n",
       "    <tr>\n",
       "      <th>...</th>\n",
       "      <td>...</td>\n",
       "      <td>...</td>\n",
       "      <td>...</td>\n",
       "      <td>...</td>\n",
       "      <td>...</td>\n",
       "      <td>...</td>\n",
       "      <td>...</td>\n",
       "      <td>...</td>\n",
       "      <td>...</td>\n",
       "    </tr>\n",
       "    <tr>\n",
       "      <th>4995</th>\n",
       "      <td>4996</td>\n",
       "      <td>Quentin van Harn</td>\n",
       "      <td>1967-07-07</td>\n",
       "      <td>N</td>\n",
       "      <td>{\"mailing_address\": \"591 Blue Berry, Coulee, I...</td>\n",
       "      <td>5.0</td>\n",
       "      <td>5.0</td>\n",
       "      <td>2.0</td>\n",
       "      <td>13.82</td>\n",
       "    </tr>\n",
       "    <tr>\n",
       "      <th>4996</th>\n",
       "      <td>4997</td>\n",
       "      <td>Alejandro van der Sluijs</td>\n",
       "      <td>1964-11-03</td>\n",
       "      <td>M</td>\n",
       "      <td>{\"mailing_address\": \"30 Iron Divide, Pewaukee ...</td>\n",
       "      <td>4.0</td>\n",
       "      <td>13.0</td>\n",
       "      <td>1.0</td>\n",
       "      <td>7.86</td>\n",
       "    </tr>\n",
       "    <tr>\n",
       "      <th>4997</th>\n",
       "      <td>4998</td>\n",
       "      <td>Brock Mckenzie</td>\n",
       "      <td>2004-11-25</td>\n",
       "      <td>M</td>\n",
       "      <td>{\"mailing_address\": \"684 Rustic Rest Avenue, C...</td>\n",
       "      <td>8.0</td>\n",
       "      <td>10.0</td>\n",
       "      <td>3.0</td>\n",
       "      <td>12.1</td>\n",
       "    </tr>\n",
       "    <tr>\n",
       "      <th>4998</th>\n",
       "      <td>4999</td>\n",
       "      <td>Donnetta Dillard</td>\n",
       "      <td>1943-02-12</td>\n",
       "      <td>N</td>\n",
       "      <td>{\"mailing_address\": \"900 Indian Oval, Euclid, ...</td>\n",
       "      <td>3.0</td>\n",
       "      <td>6.0</td>\n",
       "      <td>5.0</td>\n",
       "      <td>14.86</td>\n",
       "    </tr>\n",
       "    <tr>\n",
       "      <th>4999</th>\n",
       "      <td>5000</td>\n",
       "      <td>Elton Otway</td>\n",
       "      <td>1994-12-23</td>\n",
       "      <td>M</td>\n",
       "      <td>{\"mailing_address\": \"406 Zephyr Port, Oskaloos...</td>\n",
       "      <td>2.0</td>\n",
       "      <td>5.0</td>\n",
       "      <td>3.0</td>\n",
       "      <td>10.04</td>\n",
       "    </tr>\n",
       "  </tbody>\n",
       "</table>\n",
       "<p>5000 rows × 9 columns</p>\n",
       "</div>"
      ],
      "text/plain": [
       "      uuid                      name         dob sex  \\\n",
       "0        1           Annabelle Avery  1943-07-03   F   \n",
       "1        2               Micah Rubio  1991-02-07   M   \n",
       "2        3                Hosea Dale  1989-12-07   M   \n",
       "3        4              Mariann Kirk  1988-07-31   F   \n",
       "4        5           Lucio Alexander  1963-08-31   M   \n",
       "...    ...                       ...         ...  ..   \n",
       "4995  4996          Quentin van Harn  1967-07-07   N   \n",
       "4996  4997  Alejandro van der Sluijs  1964-11-03   M   \n",
       "4997  4998            Brock Mckenzie  2004-11-25   M   \n",
       "4998  4999          Donnetta Dillard  1943-02-12   N   \n",
       "4999  5000               Elton Otway  1994-12-23   M   \n",
       "\n",
       "                                           contact_info job_id  \\\n",
       "0     {\"mailing_address\": \"303 N Timber Key, Irondal...    7.0   \n",
       "1     {\"mailing_address\": \"767 Crescent Fair, Shoals...    7.0   \n",
       "2     {\"mailing_address\": \"P.O. Box 41269, St. Bonav...    7.0   \n",
       "3     {\"mailing_address\": \"517 SE Wintergreen Isle, ...    6.0   \n",
       "4     {\"mailing_address\": \"18 Cinder Cliff, Doyles b...    7.0   \n",
       "...                                                 ...    ...   \n",
       "4995  {\"mailing_address\": \"591 Blue Berry, Coulee, I...    5.0   \n",
       "4996  {\"mailing_address\": \"30 Iron Divide, Pewaukee ...    4.0   \n",
       "4997  {\"mailing_address\": \"684 Rustic Rest Avenue, C...    8.0   \n",
       "4998  {\"mailing_address\": \"900 Indian Oval, Euclid, ...    3.0   \n",
       "4999  {\"mailing_address\": \"406 Zephyr Port, Oskaloos...    2.0   \n",
       "\n",
       "     num_course_taken current_career_path_id time_spent_hrs  \n",
       "0                 6.0                    1.0           4.99  \n",
       "1                 5.0                    8.0            4.4  \n",
       "2                 8.0                    8.0           6.74  \n",
       "3                 7.0                    9.0          12.31  \n",
       "4                14.0                    3.0           5.64  \n",
       "...               ...                    ...            ...  \n",
       "4995              5.0                    2.0          13.82  \n",
       "4996             13.0                    1.0           7.86  \n",
       "4997             10.0                    3.0           12.1  \n",
       "4998              6.0                    5.0          14.86  \n",
       "4999              5.0                    3.0          10.04  \n",
       "\n",
       "[5000 rows x 9 columns]"
      ]
     },
     "execution_count": 68,
     "metadata": {},
     "output_type": "execute_result"
    }
   ],
   "source": [
    "students_df_new"
   ]
  },
  {
   "cell_type": "markdown",
   "id": "54de9b1a",
   "metadata": {},
   "source": [
    "**Job id NAN values are filled by 0 - those lines are supposed to be joined with category named as 'other'**"
   ]
  },
  {
   "cell_type": "code",
   "execution_count": 69,
   "id": "370d34ba",
   "metadata": {},
   "outputs": [],
   "source": [
    "students_df_new['job_id'].fillna(0, inplace = True)"
   ]
  },
  {
   "cell_type": "markdown",
   "id": "8361c8d1",
   "metadata": {},
   "source": [
    "**Time spent hours NAN values are replaced by median value calculated from remaining column values**"
   ]
  },
  {
   "cell_type": "code",
   "execution_count": 70,
   "id": "f3882e2a",
   "metadata": {},
   "outputs": [],
   "source": [
    "median_time_spent = round(students_df_new['time_spent_hrs'].median(),0)"
   ]
  },
  {
   "cell_type": "code",
   "execution_count": 71,
   "id": "74741344",
   "metadata": {},
   "outputs": [],
   "source": [
    "students_df_new['time_spent_hrs'].fillna(median_time_spent, inplace = True)"
   ]
  },
  {
   "cell_type": "markdown",
   "id": "d3df4de0",
   "metadata": {},
   "source": [
    "**Career path id NAN values are replace by 0 . Those lines are supposed to be joined with career path id = 0 (unknown).**"
   ]
  },
  {
   "cell_type": "code",
   "execution_count": 72,
   "id": "a310ab4c",
   "metadata": {},
   "outputs": [],
   "source": [
    "students_df_new['current_career_path_id'].fillna(0, inplace = True) "
   ]
  },
  {
   "cell_type": "code",
   "execution_count": 73,
   "id": "a0a99f06",
   "metadata": {},
   "outputs": [
    {
     "data": {
      "text/plain": [
       "uuid                        0\n",
       "name                        0\n",
       "dob                         0\n",
       "sex                         0\n",
       "contact_info                0\n",
       "job_id                      0\n",
       "num_course_taken          251\n",
       "current_career_path_id      0\n",
       "time_spent_hrs              0\n",
       "dtype: int64"
      ]
     },
     "execution_count": 73,
     "metadata": {},
     "output_type": "execute_result"
    }
   ],
   "source": [
    "students_df_new.isna().sum()"
   ]
  },
  {
   "cell_type": "markdown",
   "id": "55dc2276",
   "metadata": {},
   "source": [
    "**Num_course_taken NAN values are replaced by median value**"
   ]
  },
  {
   "cell_type": "code",
   "execution_count": 74,
   "id": "fa690f41",
   "metadata": {},
   "outputs": [],
   "source": [
    "median_num_course_taken = round(students_df_new['num_course_taken'].median(),0)"
   ]
  },
  {
   "cell_type": "code",
   "execution_count": 75,
   "id": "e62f4bff",
   "metadata": {},
   "outputs": [],
   "source": [
    "students_df_new['num_course_taken'].fillna(median_num_course_taken, inplace = True)"
   ]
  },
  {
   "cell_type": "code",
   "execution_count": 76,
   "id": "d0b09e8b",
   "metadata": {},
   "outputs": [
    {
     "data": {
      "text/plain": [
       "uuid                      0\n",
       "name                      0\n",
       "dob                       0\n",
       "sex                       0\n",
       "contact_info              0\n",
       "job_id                    0\n",
       "num_course_taken          0\n",
       "current_career_path_id    0\n",
       "time_spent_hrs            0\n",
       "dtype: int64"
      ]
     },
     "execution_count": 76,
     "metadata": {},
     "output_type": "execute_result"
    }
   ],
   "source": [
    "students_df_new.isna().sum()"
   ]
  },
  {
   "cell_type": "markdown",
   "id": "da929e8f",
   "metadata": {},
   "source": [
    "**Manipulating with the column 'contact_info'**"
   ]
  },
  {
   "cell_type": "code",
   "execution_count": 77,
   "id": "fec20f76",
   "metadata": {},
   "outputs": [],
   "source": [
    "students_df_new['contact_info'] = students_df_new.contact_info.apply(lambda x: json.loads(x))"
   ]
  },
  {
   "cell_type": "code",
   "execution_count": 78,
   "id": "f522b826",
   "metadata": {},
   "outputs": [],
   "source": [
    "students_df_new['address'] = students_df_new.contact_info.map(lambda q: q['mailing_address'])"
   ]
  },
  {
   "cell_type": "code",
   "execution_count": 79,
   "id": "e36fd1b1",
   "metadata": {},
   "outputs": [],
   "source": [
    "students_df_new['email'] = students_df_new.contact_info.map(lambda q: q['email'])"
   ]
  },
  {
   "cell_type": "code",
   "execution_count": 80,
   "id": "832d4250",
   "metadata": {},
   "outputs": [
    {
     "data": {
      "text/plain": [
       "dict"
      ]
     },
     "execution_count": 80,
     "metadata": {},
     "output_type": "execute_result"
    }
   ],
   "source": [
    "type(students_df_new.contact_info[0])"
   ]
  },
  {
   "cell_type": "code",
   "execution_count": 81,
   "id": "2c1adbf9",
   "metadata": {},
   "outputs": [],
   "source": [
    "students_df_new['state'] = students_df_new.address.map(lambda q: q.split(',')[2])"
   ]
  },
  {
   "cell_type": "markdown",
   "id": "a67b1be0",
   "metadata": {
    "scrolled": true
   },
   "source": [
    "**Convert string objects to numerical values**"
   ]
  },
  {
   "cell_type": "code",
   "execution_count": 82,
   "id": "9d520c82",
   "metadata": {
    "scrolled": true
   },
   "outputs": [],
   "source": [
    "students_df_new.job_id = pd.to_numeric(students_df_new.job_id)"
   ]
  },
  {
   "cell_type": "code",
   "execution_count": 83,
   "id": "d24d36f2",
   "metadata": {},
   "outputs": [],
   "source": [
    "students_df_new.num_course_taken = pd.to_numeric(students_df_new.num_course_taken)"
   ]
  },
  {
   "cell_type": "code",
   "execution_count": 84,
   "id": "5989e493",
   "metadata": {},
   "outputs": [],
   "source": [
    "students_df_new.current_career_path_id = pd.to_numeric(students_df_new.current_career_path_id)"
   ]
  },
  {
   "cell_type": "code",
   "execution_count": 85,
   "id": "42d81b42",
   "metadata": {},
   "outputs": [],
   "source": [
    "students_df_new.time_spent_hrs = pd.to_numeric(students_df_new.time_spent_hrs)"
   ]
  },
  {
   "cell_type": "markdown",
   "id": "db978749",
   "metadata": {},
   "source": [
    "**Convert job_id, num_course_taken, current_career_path_id, to integer values**"
   ]
  },
  {
   "cell_type": "code",
   "execution_count": 86,
   "id": "489b0915",
   "metadata": {},
   "outputs": [],
   "source": [
    "students_df_new.job_id = students_df_new.job_id.astype(int)"
   ]
  },
  {
   "cell_type": "code",
   "execution_count": 87,
   "id": "60fa7dae",
   "metadata": {},
   "outputs": [],
   "source": [
    "students_df_new.num_course_taken = students_df_new.num_course_taken.astype(int)"
   ]
  },
  {
   "cell_type": "code",
   "execution_count": 88,
   "id": "87bb5054",
   "metadata": {},
   "outputs": [],
   "source": [
    "students_df_new.current_career_path_id = students_df_new.current_career_path_id.astype(int)"
   ]
  },
  {
   "cell_type": "markdown",
   "id": "1d38b829",
   "metadata": {},
   "source": [
    "**Drop contact info column**"
   ]
  },
  {
   "cell_type": "code",
   "execution_count": 89,
   "id": "511f3985",
   "metadata": {},
   "outputs": [],
   "source": [
    "students_df_new.drop(labels = 'contact_info', axis =1, inplace = True)"
   ]
  },
  {
   "cell_type": "markdown",
   "id": "3bc0ffca",
   "metadata": {},
   "source": [
    "**Rename column 'dob' to 'date_of_birth'**"
   ]
  },
  {
   "cell_type": "code",
   "execution_count": 90,
   "id": "6a526c43",
   "metadata": {},
   "outputs": [],
   "source": [
    "students_df_new.rename(mapper = {'dob': 'date_of_birth', 'current_career_path_id' : 'career_path_id'}, axis = 1, inplace = True)"
   ]
  },
  {
   "cell_type": "code",
   "execution_count": 91,
   "id": "8cbaf945",
   "metadata": {},
   "outputs": [
    {
     "data": {
      "text/html": [
       "<div>\n",
       "<style scoped>\n",
       "    .dataframe tbody tr th:only-of-type {\n",
       "        vertical-align: middle;\n",
       "    }\n",
       "\n",
       "    .dataframe tbody tr th {\n",
       "        vertical-align: top;\n",
       "    }\n",
       "\n",
       "    .dataframe thead th {\n",
       "        text-align: right;\n",
       "    }\n",
       "</style>\n",
       "<table border=\"1\" class=\"dataframe\">\n",
       "  <thead>\n",
       "    <tr style=\"text-align: right;\">\n",
       "      <th></th>\n",
       "      <th>uuid</th>\n",
       "      <th>name</th>\n",
       "      <th>date_of_birth</th>\n",
       "      <th>sex</th>\n",
       "      <th>job_id</th>\n",
       "      <th>num_course_taken</th>\n",
       "      <th>career_path_id</th>\n",
       "      <th>time_spent_hrs</th>\n",
       "      <th>address</th>\n",
       "      <th>email</th>\n",
       "      <th>state</th>\n",
       "    </tr>\n",
       "  </thead>\n",
       "  <tbody>\n",
       "    <tr>\n",
       "      <th>0</th>\n",
       "      <td>1</td>\n",
       "      <td>Annabelle Avery</td>\n",
       "      <td>1943-07-03</td>\n",
       "      <td>F</td>\n",
       "      <td>7</td>\n",
       "      <td>6</td>\n",
       "      <td>1</td>\n",
       "      <td>4.99</td>\n",
       "      <td>303 N Timber Key, Irondale, Wisconsin, 84736</td>\n",
       "      <td>annabelle_avery9376@woohoo.com</td>\n",
       "      <td>Wisconsin</td>\n",
       "    </tr>\n",
       "    <tr>\n",
       "      <th>1</th>\n",
       "      <td>2</td>\n",
       "      <td>Micah Rubio</td>\n",
       "      <td>1991-02-07</td>\n",
       "      <td>M</td>\n",
       "      <td>7</td>\n",
       "      <td>5</td>\n",
       "      <td>8</td>\n",
       "      <td>4.40</td>\n",
       "      <td>767 Crescent Fair, Shoals, Indiana, 37439</td>\n",
       "      <td>rubio6772@hmail.com</td>\n",
       "      <td>Indiana</td>\n",
       "    </tr>\n",
       "    <tr>\n",
       "      <th>2</th>\n",
       "      <td>3</td>\n",
       "      <td>Hosea Dale</td>\n",
       "      <td>1989-12-07</td>\n",
       "      <td>M</td>\n",
       "      <td>7</td>\n",
       "      <td>8</td>\n",
       "      <td>8</td>\n",
       "      <td>6.74</td>\n",
       "      <td>P.O. Box 41269, St. Bonaventure, Virginia, 83637</td>\n",
       "      <td>hosea_dale8084@coldmail.com</td>\n",
       "      <td>Virginia</td>\n",
       "    </tr>\n",
       "    <tr>\n",
       "      <th>3</th>\n",
       "      <td>4</td>\n",
       "      <td>Mariann Kirk</td>\n",
       "      <td>1988-07-31</td>\n",
       "      <td>F</td>\n",
       "      <td>6</td>\n",
       "      <td>7</td>\n",
       "      <td>9</td>\n",
       "      <td>12.31</td>\n",
       "      <td>517 SE Wintergreen Isle, Lane, Arkansas, 82242</td>\n",
       "      <td>kirk4005@hmail.com</td>\n",
       "      <td>Arkansas</td>\n",
       "    </tr>\n",
       "    <tr>\n",
       "      <th>4</th>\n",
       "      <td>5</td>\n",
       "      <td>Lucio Alexander</td>\n",
       "      <td>1963-08-31</td>\n",
       "      <td>M</td>\n",
       "      <td>7</td>\n",
       "      <td>14</td>\n",
       "      <td>3</td>\n",
       "      <td>5.64</td>\n",
       "      <td>18 Cinder Cliff, Doyles borough, Rhode Island,...</td>\n",
       "      <td>alexander9810@hmail.com</td>\n",
       "      <td>Rhode Island</td>\n",
       "    </tr>\n",
       "  </tbody>\n",
       "</table>\n",
       "</div>"
      ],
      "text/plain": [
       "   uuid             name date_of_birth sex  job_id  num_course_taken  \\\n",
       "0     1  Annabelle Avery    1943-07-03   F       7                 6   \n",
       "1     2      Micah Rubio    1991-02-07   M       7                 5   \n",
       "2     3       Hosea Dale    1989-12-07   M       7                 8   \n",
       "3     4     Mariann Kirk    1988-07-31   F       6                 7   \n",
       "4     5  Lucio Alexander    1963-08-31   M       7                14   \n",
       "\n",
       "   career_path_id  time_spent_hrs  \\\n",
       "0               1            4.99   \n",
       "1               8            4.40   \n",
       "2               8            6.74   \n",
       "3               9           12.31   \n",
       "4               3            5.64   \n",
       "\n",
       "                                             address  \\\n",
       "0       303 N Timber Key, Irondale, Wisconsin, 84736   \n",
       "1          767 Crescent Fair, Shoals, Indiana, 37439   \n",
       "2   P.O. Box 41269, St. Bonaventure, Virginia, 83637   \n",
       "3     517 SE Wintergreen Isle, Lane, Arkansas, 82242   \n",
       "4  18 Cinder Cliff, Doyles borough, Rhode Island,...   \n",
       "\n",
       "                            email          state  \n",
       "0  annabelle_avery9376@woohoo.com      Wisconsin  \n",
       "1             rubio6772@hmail.com        Indiana  \n",
       "2     hosea_dale8084@coldmail.com       Virginia  \n",
       "3              kirk4005@hmail.com       Arkansas  \n",
       "4         alexander9810@hmail.com   Rhode Island  "
      ]
     },
     "execution_count": 91,
     "metadata": {},
     "output_type": "execute_result"
    }
   ],
   "source": [
    "students_df_new.head()"
   ]
  },
  {
   "cell_type": "code",
   "execution_count": 92,
   "id": "7319795f",
   "metadata": {},
   "outputs": [
    {
     "data": {
      "text/plain": [
       "uuid                  int64\n",
       "name                 object\n",
       "date_of_birth        object\n",
       "sex                  object\n",
       "job_id                int32\n",
       "num_course_taken      int32\n",
       "career_path_id        int32\n",
       "time_spent_hrs      float64\n",
       "address              object\n",
       "email                object\n",
       "state                object\n",
       "dtype: object"
      ]
     },
     "execution_count": 92,
     "metadata": {},
     "output_type": "execute_result"
    }
   ],
   "source": [
    "students_df_new.dtypes"
   ]
  },
  {
   "cell_type": "code",
   "execution_count": 93,
   "id": "31610ff1",
   "metadata": {},
   "outputs": [
    {
     "data": {
      "text/html": [
       "<div>\n",
       "<style scoped>\n",
       "    .dataframe tbody tr th:only-of-type {\n",
       "        vertical-align: middle;\n",
       "    }\n",
       "\n",
       "    .dataframe tbody tr th {\n",
       "        vertical-align: top;\n",
       "    }\n",
       "\n",
       "    .dataframe thead th {\n",
       "        text-align: right;\n",
       "    }\n",
       "</style>\n",
       "<table border=\"1\" class=\"dataframe\">\n",
       "  <thead>\n",
       "    <tr style=\"text-align: right;\">\n",
       "      <th></th>\n",
       "      <th>uuid</th>\n",
       "      <th>name</th>\n",
       "      <th>date_of_birth</th>\n",
       "      <th>sex</th>\n",
       "      <th>job_id</th>\n",
       "      <th>num_course_taken</th>\n",
       "      <th>career_path_id</th>\n",
       "      <th>time_spent_hrs</th>\n",
       "      <th>address</th>\n",
       "      <th>email</th>\n",
       "      <th>state</th>\n",
       "    </tr>\n",
       "  </thead>\n",
       "  <tbody>\n",
       "    <tr>\n",
       "      <th>0</th>\n",
       "      <td>1</td>\n",
       "      <td>Annabelle Avery</td>\n",
       "      <td>1943-07-03</td>\n",
       "      <td>F</td>\n",
       "      <td>7</td>\n",
       "      <td>6</td>\n",
       "      <td>1</td>\n",
       "      <td>4.99</td>\n",
       "      <td>303 N Timber Key, Irondale, Wisconsin, 84736</td>\n",
       "      <td>annabelle_avery9376@woohoo.com</td>\n",
       "      <td>Wisconsin</td>\n",
       "    </tr>\n",
       "    <tr>\n",
       "      <th>1</th>\n",
       "      <td>2</td>\n",
       "      <td>Micah Rubio</td>\n",
       "      <td>1991-02-07</td>\n",
       "      <td>M</td>\n",
       "      <td>7</td>\n",
       "      <td>5</td>\n",
       "      <td>8</td>\n",
       "      <td>4.40</td>\n",
       "      <td>767 Crescent Fair, Shoals, Indiana, 37439</td>\n",
       "      <td>rubio6772@hmail.com</td>\n",
       "      <td>Indiana</td>\n",
       "    </tr>\n",
       "    <tr>\n",
       "      <th>2</th>\n",
       "      <td>3</td>\n",
       "      <td>Hosea Dale</td>\n",
       "      <td>1989-12-07</td>\n",
       "      <td>M</td>\n",
       "      <td>7</td>\n",
       "      <td>8</td>\n",
       "      <td>8</td>\n",
       "      <td>6.74</td>\n",
       "      <td>P.O. Box 41269, St. Bonaventure, Virginia, 83637</td>\n",
       "      <td>hosea_dale8084@coldmail.com</td>\n",
       "      <td>Virginia</td>\n",
       "    </tr>\n",
       "    <tr>\n",
       "      <th>3</th>\n",
       "      <td>4</td>\n",
       "      <td>Mariann Kirk</td>\n",
       "      <td>1988-07-31</td>\n",
       "      <td>F</td>\n",
       "      <td>6</td>\n",
       "      <td>7</td>\n",
       "      <td>9</td>\n",
       "      <td>12.31</td>\n",
       "      <td>517 SE Wintergreen Isle, Lane, Arkansas, 82242</td>\n",
       "      <td>kirk4005@hmail.com</td>\n",
       "      <td>Arkansas</td>\n",
       "    </tr>\n",
       "    <tr>\n",
       "      <th>4</th>\n",
       "      <td>5</td>\n",
       "      <td>Lucio Alexander</td>\n",
       "      <td>1963-08-31</td>\n",
       "      <td>M</td>\n",
       "      <td>7</td>\n",
       "      <td>14</td>\n",
       "      <td>3</td>\n",
       "      <td>5.64</td>\n",
       "      <td>18 Cinder Cliff, Doyles borough, Rhode Island,...</td>\n",
       "      <td>alexander9810@hmail.com</td>\n",
       "      <td>Rhode Island</td>\n",
       "    </tr>\n",
       "  </tbody>\n",
       "</table>\n",
       "</div>"
      ],
      "text/plain": [
       "   uuid             name date_of_birth sex  job_id  num_course_taken  \\\n",
       "0     1  Annabelle Avery    1943-07-03   F       7                 6   \n",
       "1     2      Micah Rubio    1991-02-07   M       7                 5   \n",
       "2     3       Hosea Dale    1989-12-07   M       7                 8   \n",
       "3     4     Mariann Kirk    1988-07-31   F       6                 7   \n",
       "4     5  Lucio Alexander    1963-08-31   M       7                14   \n",
       "\n",
       "   career_path_id  time_spent_hrs  \\\n",
       "0               1            4.99   \n",
       "1               8            4.40   \n",
       "2               8            6.74   \n",
       "3               9           12.31   \n",
       "4               3            5.64   \n",
       "\n",
       "                                             address  \\\n",
       "0       303 N Timber Key, Irondale, Wisconsin, 84736   \n",
       "1          767 Crescent Fair, Shoals, Indiana, 37439   \n",
       "2   P.O. Box 41269, St. Bonaventure, Virginia, 83637   \n",
       "3     517 SE Wintergreen Isle, Lane, Arkansas, 82242   \n",
       "4  18 Cinder Cliff, Doyles borough, Rhode Island,...   \n",
       "\n",
       "                            email          state  \n",
       "0  annabelle_avery9376@woohoo.com      Wisconsin  \n",
       "1             rubio6772@hmail.com        Indiana  \n",
       "2     hosea_dale8084@coldmail.com       Virginia  \n",
       "3              kirk4005@hmail.com       Arkansas  \n",
       "4         alexander9810@hmail.com   Rhode Island  "
      ]
     },
     "execution_count": 93,
     "metadata": {},
     "output_type": "execute_result"
    }
   ],
   "source": [
    "students_df_new.head()"
   ]
  },
  {
   "cell_type": "markdown",
   "id": "64cdbebf",
   "metadata": {},
   "source": [
    "# Upload of cleaned dataframes into new sqlite database"
   ]
  },
  {
   "cell_type": "code",
   "execution_count": 94,
   "id": "56d62172",
   "metadata": {},
   "outputs": [],
   "source": [
    "connection_new = sqlite3.connect(\"./subscriber-pipeline-starter-kit/dev/cademycode_clean_jup_ntb.db\")\n",
    "cursor_new = connection_new.cursor()"
   ]
  },
  {
   "cell_type": "code",
   "execution_count": 95,
   "id": "bcab7083",
   "metadata": {},
   "outputs": [
    {
     "ename": "OperationalError",
     "evalue": "table cademycode_students_new already exists",
     "output_type": "error",
     "traceback": [
      "\u001b[1;31m---------------------------------------------------------------------------\u001b[0m",
      "\u001b[1;31mOperationalError\u001b[0m                          Traceback (most recent call last)",
      "Cell \u001b[1;32mIn[95], line 1\u001b[0m\n\u001b[1;32m----> 1\u001b[0m \u001b[43mcursor_new\u001b[49m\u001b[38;5;241;43m.\u001b[39;49m\u001b[43mexecute\u001b[49m\u001b[43m(\u001b[49m\u001b[38;5;124;43m'''\u001b[39;49m\u001b[38;5;124;43mCREATE TABLE cademycode_students_new (\u001b[39;49m\n\u001b[0;32m      2\u001b[0m \u001b[38;5;124;43m                        uuid INTEGER, \u001b[39;49m\n\u001b[0;32m      3\u001b[0m \u001b[38;5;124;43m                        name VARCHAR, \u001b[39;49m\n\u001b[0;32m      4\u001b[0m \u001b[38;5;124;43m                        date_of_birth VARCHAR, \u001b[39;49m\n\u001b[0;32m      5\u001b[0m \u001b[38;5;124;43m                        sex TEXT, \u001b[39;49m\n\u001b[0;32m      6\u001b[0m \u001b[38;5;124;43m                        job_id INTEGER, \u001b[39;49m\n\u001b[0;32m      7\u001b[0m \u001b[38;5;124;43m                        num_course_taken INTEGER, \u001b[39;49m\n\u001b[0;32m      8\u001b[0m \u001b[38;5;124;43m                        career_path_id INTEGER,\u001b[39;49m\n\u001b[0;32m      9\u001b[0m \u001b[38;5;124;43m                        time_spent_hours VARCHAR, \u001b[39;49m\n\u001b[0;32m     10\u001b[0m \u001b[38;5;124;43m                        address VARCHAR,\u001b[39;49m\n\u001b[0;32m     11\u001b[0m \u001b[38;5;124;43m                        email VARCHAR, \u001b[39;49m\n\u001b[0;32m     12\u001b[0m \u001b[38;5;124;43m                        state VARCHAR)\u001b[39;49m\u001b[38;5;124;43m'''\u001b[39;49m\u001b[43m)\u001b[49m\n",
      "\u001b[1;31mOperationalError\u001b[0m: table cademycode_students_new already exists"
     ]
    }
   ],
   "source": [
    "cursor_new.execute('''CREATE TABLE cademycode_students_new (\n",
    "                        uuid INTEGER, \n",
    "                        name VARCHAR, \n",
    "                        date_of_birth VARCHAR, \n",
    "                        sex TEXT, \n",
    "                        job_id INTEGER, \n",
    "                        num_course_taken INTEGER, \n",
    "                        career_path_id INTEGER,\n",
    "                        time_spent_hours VARCHAR, \n",
    "                        address VARCHAR,\n",
    "                        email VARCHAR, \n",
    "                        state VARCHAR)''')"
   ]
  },
  {
   "cell_type": "code",
   "execution_count": null,
   "id": "2806c7e3",
   "metadata": {},
   "outputs": [],
   "source": [
    "cursor_new.execute('''CREATE TABLE cademycode_courses_new (\n",
    "                      career_path_id INTEGER, \n",
    "                      career_path_name VARCHAR,\n",
    "                      hours_to_complete INTEGER)\n",
    "                    ''')"
   ]
  },
  {
   "cell_type": "code",
   "execution_count": null,
   "id": "b59dea24",
   "metadata": {},
   "outputs": [],
   "source": [
    "cursor_new.execute('''CREATE TABLE cademycode_student_jobs_new (\n",
    "                      job_id INTEGER,\n",
    "                      job_category VARCHAR,\n",
    "                      avg_salary VARCHAR)\n",
    "                    ''')"
   ]
  },
  {
   "cell_type": "code",
   "execution_count": null,
   "id": "9195596d",
   "metadata": {},
   "outputs": [],
   "source": [
    "students_df_new.to_sql('cademycode_students_new', connection_new, if_exists='replace',index=False)"
   ]
  },
  {
   "cell_type": "code",
   "execution_count": null,
   "id": "222086cd",
   "metadata": {},
   "outputs": [],
   "source": [
    "courses_df_new.to_sql('cademycode_courses_new', connection_new, if_exists='replace',index=False)"
   ]
  },
  {
   "cell_type": "code",
   "execution_count": null,
   "id": "766135d5",
   "metadata": {},
   "outputs": [],
   "source": [
    "student_jobs_df_new.to_sql('cademycode_student_jobs_new', connection_new, if_exists='replace',index=False)"
   ]
  },
  {
   "cell_type": "code",
   "execution_count": null,
   "id": "3497c1ad",
   "metadata": {},
   "outputs": [],
   "source": [
    "tables_new = cursor_new.execute(\"SELECT name FROM sqlite_master WHERE type='table';\").fetchall()\n",
    "print(tables_new)"
   ]
  },
  {
   "cell_type": "code",
   "execution_count": null,
   "id": "8dfaa763",
   "metadata": {},
   "outputs": [],
   "source": [
    "connection_new.commit()\n",
    "connection_new.close()"
   ]
  },
  {
   "cell_type": "markdown",
   "id": "e0c60bcd",
   "metadata": {},
   "source": [
    "# Generating a clean CSV file from database"
   ]
  },
  {
   "cell_type": "code",
   "execution_count": null,
   "id": "86d57221",
   "metadata": {},
   "outputs": [],
   "source": [
    "conn = sqlite3.connect(\"./subscriber-pipeline-starter-kit/dev/cademycode_clean_jup_ntb.db\")\n",
    "df_students = pd.read_sql_query(\"SELECT * FROM cademycode_students_new\", con = conn)\n",
    "df_jobs = pd.read_sql_query(\"SELECT * FROM cademycode_student_jobs_new\", con = conn)\n",
    "df_courses = pd.read_sql_query(\"SELECT * FROM cademycode_courses_new\", con = conn)"
   ]
  },
  {
   "cell_type": "code",
   "execution_count": null,
   "id": "335b4a7c",
   "metadata": {},
   "outputs": [],
   "source": [
    "df_combined = df_students.merge(df_jobs, how = 'left', on = 'job_id')"
   ]
  },
  {
   "cell_type": "code",
   "execution_count": null,
   "id": "899a6c10",
   "metadata": {},
   "outputs": [],
   "source": [
    "df_combined = df_combined.merge(df_courses, how = 'left', on='career_path_id')"
   ]
  },
  {
   "cell_type": "code",
   "execution_count": null,
   "id": "9a88aafa",
   "metadata": {},
   "outputs": [],
   "source": [
    "df_combined.drop(labels = ['job_id', 'career_path_id'], axis = 1, inplace = True)\n",
    "df_combined.to_csv(\"./subscriber-pipeline-starter-kit/dev/combined_file.csv\")"
   ]
  },
  {
   "cell_type": "code",
   "execution_count": 161,
   "id": "e2b7216e",
   "metadata": {},
   "outputs": [],
   "source": [
    "from functools import reduce\n",
    "from collections import namedtuple\n",
    "import numpy as np\n",
    "import datetime"
   ]
  },
  {
   "cell_type": "code",
   "execution_count": 160,
   "id": "3ef58546",
   "metadata": {},
   "outputs": [
    {
     "ename": "NameError",
     "evalue": "name 'date' is not defined",
     "output_type": "error",
     "traceback": [
      "\u001b[1;31m---------------------------------------------------------------------------\u001b[0m",
      "\u001b[1;31mNameError\u001b[0m                                 Traceback (most recent call last)",
      "Cell \u001b[1;32mIn[160], line 8\u001b[0m\n\u001b[0;32m      4\u001b[0m mapper \u001b[38;5;241m=\u001b[39m \u001b[38;5;28mmap\u001b[39m(\u001b[38;5;28;01mlambda\u001b[39;00m line: csv_tuple(\u001b[38;5;28mint\u001b[39m(line[\u001b[38;5;241m1\u001b[39m]), \u001b[38;5;28mstr\u001b[39m(line[\u001b[38;5;241m2\u001b[39m]), date(line[\u001b[38;5;241m3\u001b[39m]), line[\u001b[38;5;241m4\u001b[39m], line[\u001b[38;5;241m5\u001b[39m], line[\u001b[38;5;241m6\u001b[39m], \n\u001b[0;32m      5\u001b[0m                                     line[\u001b[38;5;241m7\u001b[39m], line[\u001b[38;5;241m8\u001b[39m], line[\u001b[38;5;241m9\u001b[39m], line[\u001b[38;5;241m10\u001b[39m], line[\u001b[38;5;241m11\u001b[39m], line[\u001b[38;5;241m12\u001b[39m], \n\u001b[0;32m      6\u001b[0m                                     line[\u001b[38;5;241m13\u001b[39m]), reader)\n\u001b[0;32m      7\u001b[0m nan \u001b[38;5;241m=\u001b[39m \u001b[38;5;28mfilter\u001b[39m(\u001b[38;5;28;01mlambda\u001b[39;00m line: line\u001b[38;5;241m.\u001b[39muuid \u001b[38;5;241m==\u001b[39m \u001b[38;5;241m10\u001b[39m, mapper)\n\u001b[1;32m----> 8\u001b[0m \u001b[38;5;28mprint\u001b[39m(\u001b[38;5;28;43mtuple\u001b[39;49m\u001b[43m(\u001b[49m\u001b[43mnan\u001b[49m\u001b[43m)\u001b[49m)\n",
      "Cell \u001b[1;32mIn[160], line 4\u001b[0m, in \u001b[0;36m<lambda>\u001b[1;34m(line)\u001b[0m\n\u001b[0;32m      2\u001b[0m reader \u001b[38;5;241m=\u001b[39m csv\u001b[38;5;241m.\u001b[39mreader(csvfile, delimiter \u001b[38;5;241m=\u001b[39m \u001b[38;5;124m'\u001b[39m\u001b[38;5;124m,\u001b[39m\u001b[38;5;124m'\u001b[39m)\n\u001b[0;32m      3\u001b[0m csv_tuple \u001b[38;5;241m=\u001b[39m namedtuple(\u001b[38;5;124m\"\u001b[39m\u001b[38;5;124mcsv_tuple\u001b[39m\u001b[38;5;124m\"\u001b[39m, \u001b[38;5;28mnext\u001b[39m(reader)[\u001b[38;5;241m1\u001b[39m:])\n\u001b[1;32m----> 4\u001b[0m mapper \u001b[38;5;241m=\u001b[39m \u001b[38;5;28mmap\u001b[39m(\u001b[38;5;28;01mlambda\u001b[39;00m line: csv_tuple(\u001b[38;5;28mint\u001b[39m(line[\u001b[38;5;241m1\u001b[39m]), \u001b[38;5;28mstr\u001b[39m(line[\u001b[38;5;241m2\u001b[39m]), \u001b[43mdate\u001b[49m(line[\u001b[38;5;241m3\u001b[39m]), line[\u001b[38;5;241m4\u001b[39m], line[\u001b[38;5;241m5\u001b[39m], line[\u001b[38;5;241m6\u001b[39m], \n\u001b[0;32m      5\u001b[0m                                     line[\u001b[38;5;241m7\u001b[39m], line[\u001b[38;5;241m8\u001b[39m], line[\u001b[38;5;241m9\u001b[39m], line[\u001b[38;5;241m10\u001b[39m], line[\u001b[38;5;241m11\u001b[39m], line[\u001b[38;5;241m12\u001b[39m], \n\u001b[0;32m      6\u001b[0m                                     line[\u001b[38;5;241m13\u001b[39m]), reader)\n\u001b[0;32m      7\u001b[0m nan \u001b[38;5;241m=\u001b[39m \u001b[38;5;28mfilter\u001b[39m(\u001b[38;5;28;01mlambda\u001b[39;00m line: line\u001b[38;5;241m.\u001b[39muuid \u001b[38;5;241m==\u001b[39m \u001b[38;5;241m10\u001b[39m, mapper)\n\u001b[0;32m      8\u001b[0m \u001b[38;5;28mprint\u001b[39m(\u001b[38;5;28mtuple\u001b[39m(nan))\n",
      "\u001b[1;31mNameError\u001b[0m: name 'date' is not defined"
     ]
    }
   ],
   "source": [
    "with open(\"./subscriber-pipeline-starter-kit/dev/combined_file.csv\", newline = '') as csvfile:\n",
    "    reader = csv.reader(csvfile, delimiter = ',')\n",
    "    csv_tuple = namedtuple(\"csv_tuple\", next(reader)[1:])\n",
    "    mapper = map(lambda line: csv_tuple(int(line[1]), str(line[2]), datetime.str(line[3]), line[4], line[5], line[6], \n",
    "                                        line[7], line[8], line[9], line[10], line[11], line[12], \n",
    "                                        line[13]), reader)\n",
    "    nan = filter(lambda line: line.uuid == 10, mapper)\n",
    "    print(tuple(nan))"
   ]
  },
  {
   "cell_type": "code",
   "execution_count": null,
   "id": "d86e361b",
   "metadata": {},
   "outputs": [],
   "source": []
  }
 ],
 "metadata": {
  "kernelspec": {
   "display_name": "aut_data_ingestion",
   "language": "python",
   "name": "aut_data_ingestion"
  },
  "language_info": {
   "codemirror_mode": {
    "name": "ipython",
    "version": 3
   },
   "file_extension": ".py",
   "mimetype": "text/x-python",
   "name": "python",
   "nbconvert_exporter": "python",
   "pygments_lexer": "ipython3",
   "version": "3.10.9"
  }
 },
 "nbformat": 4,
 "nbformat_minor": 5
}
